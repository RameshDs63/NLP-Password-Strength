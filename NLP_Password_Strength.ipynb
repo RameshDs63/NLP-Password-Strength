{
 "cells": [
  {
   "cell_type": "markdown",
   "id": "136fa511",
   "metadata": {},
   "source": [
    "# 1. read data from SQL Database !"
   ]
  },
  {
   "cell_type": "code",
   "execution_count": 1,
   "id": "261c561f",
   "metadata": {},
   "outputs": [],
   "source": [
    "import pandas as pd\n",
    "import numpy as np\n",
    "import matplotlib.pyplot as plt\n",
    "import seaborn as sns"
   ]
  },
  {
   "cell_type": "code",
   "execution_count": 2,
   "id": "cf4aa540",
   "metadata": {},
   "outputs": [],
   "source": [
    "import sqlite3"
   ]
  },
  {
   "cell_type": "code",
   "execution_count": 3,
   "id": "d3ade2e4",
   "metadata": {},
   "outputs": [],
   "source": [
    "con = sqlite3.connect(r\"R:\\\\Data Science\\\\ZDS\\\\Projects\\\\Predict Password Strength\\\\password_data.sqlite\")"
   ]
  },
  {
   "cell_type": "code",
   "execution_count": 4,
   "id": "887f6822",
   "metadata": {},
   "outputs": [],
   "source": [
    "data = pd.read_sql_query(\"SELECT * FROM Users\" , con)"
   ]
  },
  {
   "cell_type": "code",
   "execution_count": 5,
   "id": "0ef6a3f2",
   "metadata": {},
   "outputs": [],
   "source": [
    "data.shape"
   ]
  },
  {
   "cell_type": "code",
   "execution_count": 6,
   "id": "58c9ead4",
   "metadata": {},
   "outputs": [],
   "source": [
    "data.head(4)"
   ]
  },
  {
   "cell_type": "markdown",
   "id": "7fd1688c",
   "metadata": {},
   "source": [
    "# 2. Doing basic data cleaning !"
   ]
  },
  {
   "cell_type": "code",
   "execution_count": 7,
   "id": "17d66608",
   "metadata": {},
   "outputs": [],
   "source": [
    "data.columns"
   ]
  },
  {
   "cell_type": "code",
   "execution_count": 8,
   "id": "9aa13660",
   "metadata": {},
   "outputs": [],
   "source": [
    "data.drop([\"index\"] ,axis=1 , inplace=True)"
   ]
  },
  {
   "cell_type": "code",
   "execution_count": 9,
   "id": "dd251ae9",
   "metadata": {},
   "outputs": [],
   "source": [
    "data.head(4)"
   ]
  },
  {
   "cell_type": "markdown",
   "id": "93816a15",
   "metadata": {},
   "source": [
    "### Check duplicate rows"
   ]
  },
  {
   "cell_type": "code",
   "execution_count": 10,
   "id": "36a9d906",
   "metadata": {},
   "outputs": [],
   "source": [
    "data.duplicated().sum()"
   ]
  },
  {
   "cell_type": "markdown",
   "id": "5c30aa10",
   "metadata": {},
   "source": [
    "### Checking missing values in columns"
   ]
  },
  {
   "cell_type": "code",
   "execution_count": 11,
   "id": "7ea74a89",
   "metadata": {},
   "outputs": [],
   "source": [
    "data.isnull().any()"
   ]
  },
  {
   "cell_type": "code",
   "execution_count": 12,
   "id": "71268bed",
   "metadata": {},
   "outputs": [],
   "source": [
    "data.isnull().any().sum()"
   ]
  },
  {
   "cell_type": "markdown",
   "id": "9a9f3715",
   "metadata": {},
   "source": [
    "### Check dat_types of every feature"
   ]
  },
  {
   "cell_type": "code",
   "execution_count": 13,
   "id": "f4f9d5c8",
   "metadata": {},
   "outputs": [],
   "source": [
    "data.dtypes"
   ]
  },
  {
   "cell_type": "markdown",
   "id": "cbfb1f2b",
   "metadata": {},
   "source": [
    "### checking whether \"strength\" feature has ir-relevant values or not "
   ]
  },
  {
   "cell_type": "code",
   "execution_count": 14,
   "id": "b0e4a087",
   "metadata": {},
   "outputs": [],
   "source": [
    "data[\"strength\"]"
   ]
  },
  {
   "cell_type": "code",
   "execution_count": 15,
   "id": "648048c6",
   "metadata": {},
   "outputs": [],
   "source": [
    "# uniuqe() it is used for ir-relavante function\n",
    "data[\"strength\"].unique()"
   ]
  },
  {
   "cell_type": "markdown",
   "id": "bba84959",
   "metadata": {},
   "source": [
    "# 3. Performing Semantic Analysis "
   ]
  },
  {
   "cell_type": "code",
   "execution_count": 16,
   "id": "8ca9bad7",
   "metadata": {},
   "outputs": [],
   "source": [
    "data.columns"
   ]
  },
  {
   "cell_type": "code",
   "execution_count": 17,
   "id": "c0887b03",
   "metadata": {},
   "outputs": [],
   "source": [
    "type(data[\"password\"][0])"
   ]
  },
  {
   "cell_type": "markdown",
   "id": "3c3918a9",
   "metadata": {},
   "source": [
    "### A. How many password textual actually holds only numeric characters"
   ]
  },
  {
   "cell_type": "code",
   "execution_count": 18,
   "id": "93f6298a",
   "metadata": {},
   "outputs": [],
   "source": [
    "data[\"password\"].str.isnumeric()"
   ]
  },
  {
   "cell_type": "code",
   "execution_count": 19,
   "id": "51d28774",
   "metadata": {},
   "outputs": [],
   "source": [
    "data[data[\"password\"].str.isnumeric()]"
   ]
  },
  {
   "cell_type": "code",
   "execution_count": 20,
   "id": "242150de",
   "metadata": {},
   "outputs": [],
   "source": [
    "data[data[\"password\"].str.isnumeric()].shape"
   ]
  },
  {
   "cell_type": "markdown",
   "id": "a312068e",
   "metadata": {},
   "source": [
    "### B. How many password textual actually holds only Upper-case character"
   ]
  },
  {
   "cell_type": "code",
   "execution_count": 21,
   "id": "5eaa929a",
   "metadata": {},
   "outputs": [],
   "source": [
    "data[data[\"password\"].str.isupper()]"
   ]
  },
  {
   "cell_type": "markdown",
   "id": "aa71fbf9",
   "metadata": {},
   "source": [
    "### C. How many password textual actually holds only alphabet"
   ]
  },
  {
   "cell_type": "code",
   "execution_count": 22,
   "id": "18629f0c",
   "metadata": {},
   "outputs": [],
   "source": [
    "data[data[\"password\"].str.isupper()].shape"
   ]
  },
  {
   "cell_type": "code",
   "execution_count": 23,
   "id": "2cadd177",
   "metadata": {},
   "outputs": [],
   "source": [
    "data[data[\"password\"].str.isalpha()]"
   ]
  },
  {
   "cell_type": "code",
   "execution_count": 24,
   "id": "1880b522",
   "metadata": {},
   "outputs": [],
   "source": [
    "data[data[\"password\"].str.isalpha()].shape"
   ]
  },
  {
   "cell_type": "markdown",
   "id": "93ab33ad",
   "metadata": {},
   "source": [
    "### D. How many password textual actually holds alpha-numeric character "
   ]
  },
  {
   "cell_type": "code",
   "execution_count": 25,
   "id": "18c59812",
   "metadata": {},
   "outputs": [],
   "source": [
    "data[data[\"password\"].str.isalnum()]"
   ]
  },
  {
   "cell_type": "code",
   "execution_count": 26,
   "id": "ac4a7b68",
   "metadata": {},
   "outputs": [],
   "source": [
    "data[data[\"password\"].str.isalnum()].shape"
   ]
  },
  {
   "cell_type": "markdown",
   "id": "815465e4",
   "metadata": {},
   "source": [
    "### E. How many password textual actually holds title-case character"
   ]
  },
  {
   "cell_type": "code",
   "execution_count": 27,
   "id": "9beab4d1",
   "metadata": {},
   "outputs": [],
   "source": [
    "data[data[\"password\"].str.istitle()]"
   ]
  },
  {
   "cell_type": "code",
   "execution_count": 28,
   "id": "f6344583",
   "metadata": {},
   "outputs": [],
   "source": [
    "data[data[\"password\"].str.istitle()].shape"
   ]
  },
  {
   "cell_type": "markdown",
   "id": "93ecf446",
   "metadata": {},
   "source": [
    "### F. How many password textual actually holds special character"
   ]
  },
  {
   "cell_type": "code",
   "execution_count": 29,
   "id": "ec121fd8",
   "metadata": {},
   "outputs": [],
   "source": [
    "data[\"password\"]"
   ]
  },
  {
   "cell_type": "code",
   "execution_count": 30,
   "id": "f9fa0b3c",
   "metadata": {},
   "outputs": [],
   "source": [
    "import string"
   ]
  },
  {
   "cell_type": "code",
   "execution_count": 31,
   "id": "30b649d3",
   "metadata": {},
   "outputs": [],
   "source": [
    "string.punctuation"
   ]
  },
  {
   "cell_type": "code",
   "execution_count": 32,
   "id": "5828c56c",
   "metadata": {},
   "outputs": [],
   "source": [
    "def find_semantics(row):\n",
    "    for char in row:\n",
    "        if char in string.punctuation:\n",
    "            return 1\n",
    "        else:\n",
    "            pass"
   ]
  },
  {
   "cell_type": "code",
   "execution_count": 33,
   "id": "f7d87bb7",
   "metadata": {},
   "outputs": [],
   "source": [
    "data[\"password\"].apply(find_semantics)==1"
   ]
  },
  {
   "cell_type": "code",
   "execution_count": 34,
   "id": "efb970e4",
   "metadata": {},
   "outputs": [],
   "source": [
    "data[data[\"password\"].apply(find_semantics)==1]"
   ]
  },
  {
   "cell_type": "code",
   "execution_count": 35,
   "id": "5a158072",
   "metadata": {},
   "outputs": [],
   "source": [
    "data[data[\"password\"].apply(find_semantics)==1].shape"
   ]
  },
  {
   "cell_type": "markdown",
   "id": "88c238cb",
   "metadata": {},
   "source": [
    "# 4. Applying Feature Engineering"
   ]
  },
  {
   "cell_type": "markdown",
   "id": "7dd963fb",
   "metadata": {},
   "source": [
    "### length of every Password"
   ]
  },
  {
   "cell_type": "code",
   "execution_count": 36,
   "id": "0af4aa56",
   "metadata": {},
   "outputs": [],
   "source": [
    "data[\"password\"][0]"
   ]
  },
  {
   "cell_type": "code",
   "execution_count": 37,
   "id": "ef7a483b",
   "metadata": {},
   "outputs": [],
   "source": [
    "len(data[\"password\"][0])"
   ]
  },
  {
   "cell_type": "code",
   "execution_count": 38,
   "id": "ded121e7",
   "metadata": {},
   "outputs": [],
   "source": [
    "data[\"password\"].str.len()"
   ]
  },
  {
   "cell_type": "code",
   "execution_count": 39,
   "id": "b6447d46",
   "metadata": {},
   "outputs": [],
   "source": [
    "data[\"length\"] = data[\"password\"].str.len()"
   ]
  },
  {
   "cell_type": "markdown",
   "id": "0a1a3d8e",
   "metadata": {},
   "source": [
    "### Frequency of Lowercase Characters"
   ]
  },
  {
   "cell_type": "code",
   "execution_count": 40,
   "id": "27c3a7ba",
   "metadata": {},
   "outputs": [],
   "source": [
    "password = \"Shan99\""
   ]
  },
  {
   "cell_type": "code",
   "execution_count": 41,
   "id": "740bdcb3",
   "metadata": {},
   "outputs": [],
   "source": [
    "[char for char in password if char.islower()]"
   ]
  },
  {
   "cell_type": "code",
   "execution_count": 42,
   "id": "ac49b1e0",
   "metadata": {},
   "outputs": [],
   "source": [
    "len([char for char in password if char.islower()])"
   ]
  },
  {
   "cell_type": "code",
   "execution_count": 43,
   "id": "f347772b",
   "metadata": {},
   "outputs": [],
   "source": [
    "len([char for char in password if char.islower()])/len(password)"
   ]
  },
  {
   "cell_type": "markdown",
   "id": "988931ca",
   "metadata": {},
   "source": [
    "### Frequency of lowercase Characters "
   ]
  },
  {
   "cell_type": "code",
   "execution_count": 44,
   "id": "46b16325",
   "metadata": {},
   "outputs": [],
   "source": [
    "def freq_lowercase(row):\n",
    "    return len([char for char in row if char.islower()])/len(row)"
   ]
  },
  {
   "cell_type": "markdown",
   "id": "6548ff9c",
   "metadata": {},
   "source": [
    "### Frequency of Uppercase Characters"
   ]
  },
  {
   "cell_type": "code",
   "execution_count": 45,
   "id": "8485d460",
   "metadata": {},
   "outputs": [],
   "source": [
    "def freq_uppercase(row):\n",
    "    return len([char for char in row if char.isupper()])/len(row)"
   ]
  },
  {
   "cell_type": "markdown",
   "id": "d9cec577",
   "metadata": {},
   "source": [
    "### Frequency of Numeric Characters "
   ]
  },
  {
   "cell_type": "code",
   "execution_count": 46,
   "id": "48e9ecbd",
   "metadata": {},
   "outputs": [],
   "source": [
    "def freq_numerical_case(row):\n",
    "    return len([char for char in row if char.isdigit()])/len(row)"
   ]
  },
  {
   "cell_type": "code",
   "execution_count": 47,
   "id": "977b3e80",
   "metadata": {},
   "outputs": [],
   "source": [
    "data[\"lowercase_freq\"] = np.round(data[\"password\"].apply(freq_lowercase) , 3)\n",
    "\n",
    "data[\"uppercase_freq\"] = np.round(data[\"password\"].apply(freq_uppercase) , 3)\n",
    "\n",
    "data[\"digit_freq\"] = np.round(data[\"password\"].apply(freq_numerical_case) , 3)"
   ]
  },
  {
   "cell_type": "code",
   "execution_count": 48,
   "id": "ee87dcbc",
   "metadata": {},
   "outputs": [],
   "source": [
    "data.head(3)"
   ]
  },
  {
   "cell_type": "markdown",
   "id": "7bbcc10d",
   "metadata": {},
   "source": [
    "### Frequency of Special-case Characters"
   ]
  },
  {
   "cell_type": "code",
   "execution_count": 49,
   "id": "08352d5d",
   "metadata": {},
   "outputs": [],
   "source": [
    "def freq_special_case(row):\n",
    "    special_chars = []\n",
    "    for char in row:\n",
    "        if not char.isalpha() and not char.isdigit():\n",
    "            special_chars.append(char)\n",
    "    return len(special_chars)"
   ]
  },
  {
   "cell_type": "code",
   "execution_count": 50,
   "id": "1467f124",
   "metadata": {},
   "outputs": [],
   "source": [
    "data[\"special_char_freq\"] = np.round(data[\"password\"].apply(freq_special_case) , 3)"
   ]
  },
  {
   "cell_type": "code",
   "execution_count": 51,
   "id": "039c24d7",
   "metadata": {},
   "outputs": [],
   "source": [
    "data.head(5)"
   ]
  },
  {
   "cell_type": "code",
   "execution_count": 52,
   "id": "b1a72b72",
   "metadata": {},
   "outputs": [],
   "source": [
    "data[\"special_char_freq\"]/data[\"length\"]"
   ]
  },
  {
   "cell_type": "code",
   "execution_count": 53,
   "id": "ed65934d",
   "metadata": {},
   "outputs": [],
   "source": [
    "data[\"special_char_freq\"] = data[\"special_char_freq\"]/data[\"length\"]"
   ]
  },
  {
   "cell_type": "code",
   "execution_count": 54,
   "id": "f1277ea6",
   "metadata": {},
   "outputs": [],
   "source": [
    "data.head(5)"
   ]
  },
  {
   "cell_type": "markdown",
   "id": "6b09a6eb",
   "metadata": {},
   "source": [
    "# 5. Performing Descriptive Statistics"
   ]
  },
  {
   "cell_type": "code",
   "execution_count": 55,
   "id": "441bb31c",
   "metadata": {},
   "outputs": [],
   "source": [
    "data.columns"
   ]
  },
  {
   "cell_type": "code",
   "execution_count": 56,
   "id": "ab13b8b5",
   "metadata": {},
   "outputs": [],
   "source": [
    "data[['length' , 'strength']]"
   ]
  },
  {
   "cell_type": "code",
   "execution_count": 57,
   "id": "8087d247",
   "metadata": {},
   "outputs": [],
   "source": [
    "data[['length' , 'strength']].groupby(['strength']).agg([\"min\" , \"max\", \"mean\" , \"median\"])"
   ]
  },
  {
   "cell_type": "code",
   "execution_count": 58,
   "id": "7525cb05",
   "metadata": {},
   "outputs": [],
   "source": [
    "cols = ['length', 'lowercase_freq', 'uppercase_freq',\n",
    "       'digit_freq', 'special_char_freq']\n",
    "for col in cols:\n",
    "    print(col)\n",
    "    print(data[[col , 'strength']].groupby(['strength']).agg([\"min\" , \"max\", \"mean\" , \"median\"]))\n",
    "    print('\\n')"
   ]
  },
  {
   "cell_type": "code",
   "execution_count": 59,
   "id": "246c4dde",
   "metadata": {},
   "outputs": [],
   "source": [
    "data.columns"
   ]
  },
  {
   "cell_type": "code",
   "execution_count": 60,
   "id": "ea2b6531",
   "metadata": {},
   "outputs": [],
   "source": [
    "fig , ((ax1 , ax2) , (ax3 , ax4) , (ax5 , ax6)) = plt.subplots(3 , 2)\n",
    "\n",
    "sns.boxplot(x=\"strength\" , y='length' , hue=\"strength\" , ax=ax1 , data=data)\n",
    "sns.boxplot(x=\"strength\" , y='lowercase_freq' , hue=\"strength\" , ax=ax2 , data=data)\n",
    "sns.boxplot(x=\"strength\" , y='uppercase_freq' , hue=\"strength\" , ax=ax3 , data=data)\n",
    "sns.boxplot(x=\"strength\" , y='digit_freq' , hue=\"strength\" , ax=ax4 , data=data)\n",
    "sns.boxplot(x=\"strength\" , y='special_char_freq' , hue=\"strength\" , ax=ax5 , data=data)"
   ]
  },
  {
   "cell_type": "code",
   "execution_count": 61,
   "id": "273380f2",
   "metadata": {},
   "outputs": [],
   "source": [
    "fig , ((ax1 , ax2) , (ax3 , ax4) , (ax5 , ax6)) = plt.subplots(3 , 2 , figsize=(15,7))\n",
    "\n",
    "sns.boxplot(x=\"strength\" , y='length' , hue=\"strength\" , ax=ax1 , data=data)\n",
    "sns.boxplot(x=\"strength\" , y='lowercase_freq' , hue=\"strength\" , ax=ax2 , data=data)\n",
    "sns.boxplot(x=\"strength\" , y='uppercase_freq' , hue=\"strength\" , ax=ax3 , data=data)\n",
    "sns.boxplot(x=\"strength\" , y='digit_freq' , hue=\"strength\" , ax=ax4 , data=data)\n",
    "sns.boxplot(x=\"strength\" , y='special_char_freq' , hue=\"strength\" , ax=ax5 , data=data)\n",
    "\n",
    "plt.subplots_adjust(hspace=0.6)"
   ]
  },
  {
   "cell_type": "markdown",
   "id": "d565a62f",
   "metadata": {},
   "source": [
    "# 6.. Feature Importance  ( How to figure out imp. feature )"
   ]
  },
  {
   "cell_type": "code",
   "execution_count": 62,
   "id": "27949e26",
   "metadata": {},
   "outputs": [],
   "source": [
    "data.columns"
   ]
  },
  {
   "cell_type": "code",
   "execution_count": 63,
   "id": "e66a731a",
   "metadata": {},
   "outputs": [],
   "source": [
    "  def get_dist(data , feature):\n",
    "        \n",
    "        plt.figure(figsize=(10,8))\n",
    "        plt.subplot(1,2,1)\n",
    "        \n",
    "        sns.violinplot(x='strength' , y=feature , data=data)\n",
    "        \n",
    "        plt.subplot(1,2,2)\n",
    "        \n",
    "        sns.distplot(data[data['strength']==0][feature] , color=\"red\" , label=\"0\" , hist=False)\n",
    "        sns.distplot(data[data['strength']==1][feature] , color=\"blue\" , label=\"1\" , hist=False)\n",
    "        sns.distplot(data[data['strength']==2][feature] , color=\"orange\" , label=\"2\" , hist=False)\n",
    "        plt.legend()\n",
    "        plt.show()"
   ]
  },
  {
   "cell_type": "code",
   "execution_count": 64,
   "id": "9c8cb68b",
   "metadata": {},
   "outputs": [],
   "source": [
    "import warnings\n",
    "from warnings import filterwarnings\n",
    "filterwarnings(\"ignore\")"
   ]
  },
  {
   "cell_type": "code",
   "execution_count": 65,
   "id": "29b19078",
   "metadata": {},
   "outputs": [],
   "source": [
    "get_dist(data , \"length\" )"
   ]
  },
  {
   "cell_type": "code",
   "execution_count": 66,
   "id": "320a87de",
   "metadata": {},
   "outputs": [],
   "source": [
    "data.columns"
   ]
  },
  {
   "cell_type": "code",
   "execution_count": 67,
   "id": "ede93934",
   "metadata": {},
   "outputs": [],
   "source": [
    "get_dist(data , 'lowercase_freq')"
   ]
  },
  {
   "cell_type": "code",
   "execution_count": 68,
   "id": "a27d28b8",
   "metadata": {},
   "outputs": [],
   "source": [
    "get_dist(data , 'uppercase_freq')"
   ]
  },
  {
   "cell_type": "code",
   "execution_count": 69,
   "id": "7b708873",
   "metadata": {},
   "outputs": [],
   "source": [
    "get_dist(data , 'digit_freq')"
   ]
  },
  {
   "cell_type": "code",
   "execution_count": 70,
   "id": "86fbb663",
   "metadata": {},
   "outputs": [],
   "source": [
    "get_dist(data , 'special_char_freq')"
   ]
  },
  {
   "cell_type": "markdown",
   "id": "e6965cab",
   "metadata": {},
   "source": [
    "# 7.. Applying TF_IDF on data"
   ]
  },
  {
   "cell_type": "code",
   "execution_count": 71,
   "id": "0b6b7035",
   "metadata": {},
   "outputs": [],
   "source": [
    "data.head(4)"
   ]
  },
  {
   "cell_type": "code",
   "execution_count": 72,
   "id": "277aab6c",
   "metadata": {},
   "outputs": [],
   "source": [
    "data"
   ]
  },
  {
   "cell_type": "code",
   "execution_count": 73,
   "id": "1bf0d0e8",
   "metadata": {},
   "outputs": [],
   "source": [
    "dataframe = data.sample(frac=1)"
   ]
  },
  {
   "cell_type": "code",
   "execution_count": 74,
   "id": "579f85e8",
   "metadata": {},
   "outputs": [],
   "source": [
    "dataframe"
   ]
  },
  {
   "cell_type": "code",
   "execution_count": 75,
   "id": "773fb962",
   "metadata": {},
   "outputs": [],
   "source": [
    "x = list(dataframe[\"password\"])"
   ]
  },
  {
   "cell_type": "code",
   "execution_count": 76,
   "id": "77914965",
   "metadata": {},
   "outputs": [],
   "source": [
    "from sklearn.feature_extraction.text import TfidfVectorizer"
   ]
  },
  {
   "cell_type": "code",
   "execution_count": 77,
   "id": "7b9785b1",
   "metadata": {},
   "outputs": [],
   "source": [
    "vectorizer = TfidfVectorizer(analyzer=\"char\")"
   ]
  },
  {
   "cell_type": "code",
   "execution_count": 78,
   "id": "24525e8f",
   "metadata": {},
   "outputs": [],
   "source": [
    "X = vectorizer.fit_transform(x)"
   ]
  },
  {
   "cell_type": "code",
   "execution_count": 79,
   "id": "63894589",
   "metadata": {},
   "outputs": [],
   "source": [
    "X.shape"
   ]
  },
  {
   "cell_type": "code",
   "execution_count": 80,
   "id": "ad96392c",
   "metadata": {},
   "outputs": [],
   "source": [
    "dataframe[\"password\"].shape"
   ]
  },
  {
   "cell_type": "code",
   "execution_count": 81,
   "id": "85bb3d24",
   "metadata": {},
   "outputs": [],
   "source": [
    "X"
   ]
  },
  {
   "cell_type": "code",
   "execution_count": 82,
   "id": "2b6e619c",
   "metadata": {},
   "outputs": [],
   "source": [
    "X.toarray()"
   ]
  },
  {
   "cell_type": "code",
   "execution_count": 83,
   "id": "59486c11",
   "metadata": {},
   "outputs": [],
   "source": [
    "X.toarray()[0]"
   ]
  },
  {
   "cell_type": "code",
   "execution_count": 84,
   "id": "f2ba4aa1",
   "metadata": {},
   "outputs": [],
   "source": [
    "dataframe[\"password\"]"
   ]
  },
  {
   "cell_type": "code",
   "execution_count": 85,
   "id": "fee55bea",
   "metadata": {},
   "outputs": [],
   "source": [
    "len(vectorizer.get_feature_names_out())"
   ]
  },
  {
   "cell_type": "code",
   "execution_count": 86,
   "id": "ce461beb",
   "metadata": {},
   "outputs": [],
   "source": [
    "vectorizer.get_feature_names_out()"
   ]
  },
  {
   "cell_type": "code",
   "execution_count": 87,
   "id": "c01829a0",
   "metadata": {},
   "outputs": [],
   "source": [
    "df2 = pd.DataFrame(X.toarray() , columns=vectorizer.get_feature_names_out())"
   ]
  },
  {
   "cell_type": "code",
   "execution_count": 88,
   "id": "37485562",
   "metadata": {},
   "outputs": [],
   "source": [
    "df2"
   ]
  },
  {
   "cell_type": "markdown",
   "id": "dcda9457",
   "metadata": {},
   "source": [
    "# 8. Applying Machine Learning algorithm"
   ]
  },
  {
   "cell_type": "code",
   "execution_count": 89,
   "id": "59b2e83e",
   "metadata": {},
   "outputs": [],
   "source": [
    "df2[\"length\"] = dataframe[\"length\"]\n",
    "df2[\"lowercase_freq\"] = dataframe[\"lowercase_freq\"]"
   ]
  },
  {
   "cell_type": "code",
   "execution_count": 90,
   "id": "dac2211a",
   "metadata": {},
   "outputs": [],
   "source": [
    "df2"
   ]
  },
  {
   "cell_type": "code",
   "execution_count": 91,
   "id": "02123aab",
   "metadata": {},
   "outputs": [],
   "source": [
    "y = dataframe[\"strength\"]"
   ]
  },
  {
   "cell_type": "markdown",
   "id": "c288f546",
   "metadata": {},
   "source": [
    "### split data into train & test"
   ]
  },
  {
   "cell_type": "code",
   "execution_count": 92,
   "id": "43c5e3a6",
   "metadata": {},
   "outputs": [],
   "source": [
    " from sklearn.model_selection import train_test_split"
   ]
  },
  {
   "cell_type": "code",
   "execution_count": 93,
   "id": "a06eb471",
   "metadata": {},
   "outputs": [],
   "source": [
    "X_train, X_test, y_train, y_test = train_test_split(df2, y, test_size=0.20)"
   ]
  },
  {
   "cell_type": "code",
   "execution_count": 94,
   "id": "4e4fa104",
   "metadata": {},
   "outputs": [],
   "source": [
    "X_train.shape"
   ]
  },
  {
   "cell_type": "code",
   "execution_count": 95,
   "id": "d3847969",
   "metadata": {},
   "outputs": [],
   "source": [
    "y_train.shape"
   ]
  },
  {
   "cell_type": "code",
   "execution_count": 96,
   "id": "09024d24",
   "metadata": {},
   "outputs": [],
   "source": [
    "from sklearn.linear_model import LogisticRegression"
   ]
  },
  {
   "cell_type": "code",
   "execution_count": 97,
   "id": "2e2ef673",
   "metadata": {},
   "outputs": [],
   "source": [
    "clf = LogisticRegression(multi_class=\"multinomial\")"
   ]
  },
  {
   "cell_type": "code",
   "execution_count": 98,
   "id": "2b91b033",
   "metadata": {},
   "outputs": [],
   "source": [
    "clf.fit(X_train , y_train)"
   ]
  },
  {
   "cell_type": "code",
   "execution_count": 99,
   "id": "fa3ddb94",
   "metadata": {},
   "outputs": [],
   "source": [
    "y_pred = clf.predict(X_test)"
   ]
  },
  {
   "cell_type": "code",
   "execution_count": 100,
   "id": "7744b384",
   "metadata": {},
   "outputs": [],
   "source": [
    "y_pred"
   ]
  },
  {
   "cell_type": "code",
   "execution_count": 101,
   "id": "09df9dcb",
   "metadata": {},
   "outputs": [],
   "source": [
    "from collections import Counter"
   ]
  },
  {
   "cell_type": "code",
   "execution_count": 102,
   "id": "7c68505e",
   "metadata": {},
   "outputs": [],
   "source": [
    "Counter(y_pred)"
   ]
  },
  {
   "cell_type": "markdown",
   "id": "bd154f0d",
   "metadata": {},
   "source": [
    "# 9. Doing prediction on sample data (user-entered input)"
   ]
  },
  {
   "cell_type": "code",
   "execution_count": 103,
   "id": "25ee63b1",
   "metadata": {},
   "outputs": [],
   "source": [
    "password = \"%@123abcd\""
   ]
  },
  {
   "cell_type": "code",
   "execution_count": 104,
   "id": "8d644b07",
   "metadata": {},
   "outputs": [],
   "source": [
    "sample_array = np.array([password])"
   ]
  },
  {
   "cell_type": "code",
   "execution_count": 105,
   "id": "590ce518",
   "metadata": {},
   "outputs": [],
   "source": [
    "sample_matrix = vectorizer.transform(sample_array)"
   ]
  },
  {
   "cell_type": "code",
   "execution_count": 106,
   "id": "3720809a",
   "metadata": {},
   "outputs": [],
   "source": [
    "sample_matrix.toarray()"
   ]
  },
  {
   "cell_type": "code",
   "execution_count": 107,
   "id": "3dfd36fd",
   "metadata": {},
   "outputs": [],
   "source": [
    "sample_matrix.toarray().shape"
   ]
  },
  {
   "cell_type": "code",
   "execution_count": 108,
   "id": "8027b886",
   "metadata": {},
   "outputs": [],
   "source": [
    "password"
   ]
  },
  {
   "cell_type": "code",
   "execution_count": 109,
   "id": "a507d366",
   "metadata": {},
   "outputs": [],
   "source": [
    "len(password)"
   ]
  },
  {
   "cell_type": "code",
   "execution_count": 110,
   "id": "013958e8",
   "metadata": {},
   "outputs": [],
   "source": [
    "[char for char in password if char.islower()]"
   ]
  },
  {
   "cell_type": "code",
   "execution_count": 111,
   "id": "93268b28",
   "metadata": {},
   "outputs": [],
   "source": [
    "len([char for char in password if char.islower()])/len(password)"
   ]
  },
  {
   "cell_type": "code",
   "execution_count": 112,
   "id": "ba387521",
   "metadata": {},
   "outputs": [],
   "source": [
    "np.append(sample_matrix.toarray() ,(9,0.444))"
   ]
  },
  {
   "cell_type": "code",
   "execution_count": 113,
   "id": "d29df8a4",
   "metadata": {},
   "outputs": [],
   "source": [
    "np.append(sample_matrix.toarray() ,(9,0.444)).shape"
   ]
  },
  {
   "cell_type": "code",
   "execution_count": 114,
   "id": "9dbc8db9",
   "metadata": {},
   "outputs": [],
   "source": [
    "np.append(sample_matrix.toarray() ,(9,0.444)).reshape(1,101)"
   ]
  },
  {
   "cell_type": "code",
   "execution_count": 115,
   "id": "5ce26eb5",
   "metadata": {},
   "outputs": [],
   "source": [
    "np.append(sample_matrix.toarray() ,(9,0.444)).reshape(1,101).shape"
   ]
  },
  {
   "cell_type": "code",
   "execution_count": 116,
   "id": "30d35e39",
   "metadata": {},
   "outputs": [],
   "source": [
    "new_matrix = np.append(sample_matrix.toarray() ,(9,0.444)).reshape(1,101)"
   ]
  },
  {
   "cell_type": "code",
   "execution_count": 117,
   "id": "154b94a5",
   "metadata": {},
   "outputs": [],
   "source": [
    "clf.predict(new_matrix)"
   ]
  },
  {
   "cell_type": "code",
   "execution_count": 118,
   "id": "9612bd7a",
   "metadata": {},
   "outputs": [],
   "source": [
    "def predict():\n",
    "    password = input(\"Enter a password : \")\n",
    "    sample_array = np.array([password])\n",
    "    sample_matrix = vectorizer.transform(sample_array)\n",
    "    \n",
    "    length_pass = len(password)\n",
    "    length_normalised_lowercase = len([char for char in password if char.islower()])/len(password)\n",
    "    \n",
    "    new_matrix2 = np.append(sample_matrix.toarray() , (length_pass , length_normalised_lowercase)).reshape(1,101)\n",
    "    result = clf.predict(new_matrix2)\n",
    "    \n",
    "    if result == 0 :\n",
    "        return \"Password is weak\"\n",
    "    elif result == 1 :\n",
    "        return \"Password is normal\"\n",
    "    else:\n",
    "        return \"password is strong\""
   ]
  },
  {
   "cell_type": "code",
   "execution_count": 119,
   "id": "774045d4",
   "metadata": {},
   "outputs": [
    {
     "name": "stdout",
     "output_type": "stream",
     "text": [
      "Enter a password : ssssss\n"
     ]
    }
   ],
   "source": [
    "predict()"
   ]
  },
  {
   "cell_type": "code",
   "execution_count": 120,
   "id": "6ab3f429",
   "metadata": {},
   "outputs": [
    {
     "name": "stdout",
     "output_type": "stream",
     "text": [
      "Enter a password : sssssssssssss\n"
     ]
    }
   ],
   "source": [
    "predict()"
   ]
  },
  {
   "cell_type": "markdown",
   "id": "eb44b368",
   "metadata": {},
   "source": [
    "# 10.. Model evaluation "
   ]
  },
  {
   "cell_type": "code",
   "execution_count": 125,
   "id": "99065ea6",
   "metadata": {},
   "outputs": [],
   "source": [
    "from sklearn.metrics import confusion_matrix , accuracy_score , classification_report"
   ]
  },
  {
   "cell_type": "code",
   "execution_count": 126,
   "id": "ecd49fbc",
   "metadata": {},
   "outputs": [],
   "source": [
    "accuracy_score(y_test , y_pred)"
   ]
  },
  {
   "cell_type": "code",
   "execution_count": 127,
   "id": "50409995",
   "metadata": {},
   "outputs": [],
   "source": [
    "confusion_matrix(y_test , y_pred)"
   ]
  },
  {
   "cell_type": "code",
   "execution_count": 128,
   "id": "a5119569",
   "metadata": {},
   "outputs": [],
   "source": [
    "print(classification_report(y_test , y_pred))"
   ]
  },
  {
   "cell_type": "code",
   "execution_count": null,
   "id": "e3174a47",
   "metadata": {},
   "outputs": [],
   "source": []
  }
 ],
 "metadata": {
  "kernelspec": {
   "display_name": "Python 3 (ipykernel)",
   "language": "python",
   "name": "python3"
  },
  "language_info": {
   "codemirror_mode": {
    "name": "ipython",
    "version": 3
   },
   "file_extension": ".py",
   "mimetype": "text/x-python",
   "name": "python",
   "nbconvert_exporter": "python",
   "pygments_lexer": "ipython3",
   "version": "3.11.3"
  }
 },
 "nbformat": 4,
 "nbformat_minor": 5
}
