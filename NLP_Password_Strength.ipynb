{
 "cells": [
  {
   "cell_type": "markdown",
   "id": "136fa511",
   "metadata": {},
   "source": [
    "# 1. read data from SQL Database !"
   ]
  },
  {
   "cell_type": "code",
   "execution_count": 1,
   "id": "261c561f",
   "metadata": {},
   "outputs": [],
   "source": [
    "import pandas as pd\n",
    "import numpy as np\n",
    "import matplotlib.pyplot as plt\n",
    "import seaborn as sns"
   ]
  },
  {
   "cell_type": "code",
   "execution_count": 2,
   "id": "cf4aa540",
   "metadata": {},
   "outputs": [],
   "source": [
    "import sqlite3"
   ]
  },
  {
   "cell_type": "code",
   "execution_count": 3,
   "id": "d3ade2e4",
   "metadata": {},
   "outputs": [],
   "source": [
    "con = sqlite3.connect(r\"R:\\\\Data Science\\\\ZDS\\\\Projects\\\\Predict Password Strength\\\\password_data.sqlite\")"
   ]
  },
  {
   "cell_type": "code",
   "execution_count": 4,
   "id": "887f6822",
   "metadata": {},
   "outputs": [],
   "source": [
    "data = pd.read_sql_query(\"SELECT * FROM Users\" , con)"
   ]
  },
  {
   "cell_type": "code",
   "execution_count": 5,
   "id": "0ef6a3f2",
   "metadata": {},
   "outputs": [
    {
     "data": {
      "text/plain": [
       "(100000, 3)"
      ]
     },
     "execution_count": 5,
     "metadata": {},
     "output_type": "execute_result"
    }
   ],
   "source": [
    "data.shape"
   ]
  },
  {
   "cell_type": "code",
   "execution_count": 6,
   "id": "58c9ead4",
   "metadata": {},
   "outputs": [
    {
     "data": {
      "text/html": [
       "<div>\n",
       "<style scoped>\n",
       "    .dataframe tbody tr th:only-of-type {\n",
       "        vertical-align: middle;\n",
       "    }\n",
       "\n",
       "    .dataframe tbody tr th {\n",
       "        vertical-align: top;\n",
       "    }\n",
       "\n",
       "    .dataframe thead th {\n",
       "        text-align: right;\n",
       "    }\n",
       "</style>\n",
       "<table border=\"1\" class=\"dataframe\">\n",
       "  <thead>\n",
       "    <tr style=\"text-align: right;\">\n",
       "      <th></th>\n",
       "      <th>index</th>\n",
       "      <th>password</th>\n",
       "      <th>strength</th>\n",
       "    </tr>\n",
       "  </thead>\n",
       "  <tbody>\n",
       "    <tr>\n",
       "      <th>0</th>\n",
       "      <td>0</td>\n",
       "      <td>zxe870819</td>\n",
       "      <td>1</td>\n",
       "    </tr>\n",
       "    <tr>\n",
       "      <th>1</th>\n",
       "      <td>1</td>\n",
       "      <td>xw46454nr23l</td>\n",
       "      <td>1</td>\n",
       "    </tr>\n",
       "    <tr>\n",
       "      <th>2</th>\n",
       "      <td>2</td>\n",
       "      <td>soporte13</td>\n",
       "      <td>1</td>\n",
       "    </tr>\n",
       "    <tr>\n",
       "      <th>3</th>\n",
       "      <td>3</td>\n",
       "      <td>accounts6000webhost.com</td>\n",
       "      <td>2</td>\n",
       "    </tr>\n",
       "  </tbody>\n",
       "</table>\n",
       "</div>"
      ],
      "text/plain": [
       "   index                 password  strength\n",
       "0      0                zxe870819         1\n",
       "1      1             xw46454nr23l         1\n",
       "2      2                soporte13         1\n",
       "3      3  accounts6000webhost.com         2"
      ]
     },
     "execution_count": 6,
     "metadata": {},
     "output_type": "execute_result"
    }
   ],
   "source": [
    "data.head(4)"
   ]
  },
  {
   "cell_type": "markdown",
   "id": "7fd1688c",
   "metadata": {},
   "source": [
    "# 2. Doing basic data cleaning !"
   ]
  },
  {
   "cell_type": "code",
   "execution_count": 7,
   "id": "17d66608",
   "metadata": {},
   "outputs": [
    {
     "data": {
      "text/plain": [
       "Index(['index', 'password', 'strength'], dtype='object')"
      ]
     },
     "execution_count": 7,
     "metadata": {},
     "output_type": "execute_result"
    }
   ],
   "source": [
    "data.columns"
   ]
  },
  {
   "cell_type": "code",
   "execution_count": 8,
   "id": "9aa13660",
   "metadata": {},
   "outputs": [],
   "source": [
    "data.drop([\"index\"] ,axis=1 , inplace=True)"
   ]
  },
  {
   "cell_type": "code",
   "execution_count": 9,
   "id": "dd251ae9",
   "metadata": {},
   "outputs": [
    {
     "data": {
      "text/html": [
       "<div>\n",
       "<style scoped>\n",
       "    .dataframe tbody tr th:only-of-type {\n",
       "        vertical-align: middle;\n",
       "    }\n",
       "\n",
       "    .dataframe tbody tr th {\n",
       "        vertical-align: top;\n",
       "    }\n",
       "\n",
       "    .dataframe thead th {\n",
       "        text-align: right;\n",
       "    }\n",
       "</style>\n",
       "<table border=\"1\" class=\"dataframe\">\n",
       "  <thead>\n",
       "    <tr style=\"text-align: right;\">\n",
       "      <th></th>\n",
       "      <th>password</th>\n",
       "      <th>strength</th>\n",
       "    </tr>\n",
       "  </thead>\n",
       "  <tbody>\n",
       "    <tr>\n",
       "      <th>0</th>\n",
       "      <td>zxe870819</td>\n",
       "      <td>1</td>\n",
       "    </tr>\n",
       "    <tr>\n",
       "      <th>1</th>\n",
       "      <td>xw46454nr23l</td>\n",
       "      <td>1</td>\n",
       "    </tr>\n",
       "    <tr>\n",
       "      <th>2</th>\n",
       "      <td>soporte13</td>\n",
       "      <td>1</td>\n",
       "    </tr>\n",
       "    <tr>\n",
       "      <th>3</th>\n",
       "      <td>accounts6000webhost.com</td>\n",
       "      <td>2</td>\n",
       "    </tr>\n",
       "  </tbody>\n",
       "</table>\n",
       "</div>"
      ],
      "text/plain": [
       "                  password  strength\n",
       "0                zxe870819         1\n",
       "1             xw46454nr23l         1\n",
       "2                soporte13         1\n",
       "3  accounts6000webhost.com         2"
      ]
     },
     "execution_count": 9,
     "metadata": {},
     "output_type": "execute_result"
    }
   ],
   "source": [
    "data.head(4)"
   ]
  },
  {
   "cell_type": "markdown",
   "id": "93816a15",
   "metadata": {},
   "source": [
    "### Check duplicate rows"
   ]
  },
  {
   "cell_type": "code",
   "execution_count": 10,
   "id": "36a9d906",
   "metadata": {},
   "outputs": [
    {
     "data": {
      "text/plain": [
       "0"
      ]
     },
     "execution_count": 10,
     "metadata": {},
     "output_type": "execute_result"
    }
   ],
   "source": [
    "data.duplicated().sum()"
   ]
  },
  {
   "cell_type": "markdown",
   "id": "5c30aa10",
   "metadata": {},
   "source": [
    "### Checking missing values in columns"
   ]
  },
  {
   "cell_type": "code",
   "execution_count": 11,
   "id": "7ea74a89",
   "metadata": {},
   "outputs": [
    {
     "data": {
      "text/plain": [
       "password    False\n",
       "strength    False\n",
       "dtype: bool"
      ]
     },
     "execution_count": 11,
     "metadata": {},
     "output_type": "execute_result"
    }
   ],
   "source": [
    "data.isnull().any()"
   ]
  },
  {
   "cell_type": "code",
   "execution_count": 12,
   "id": "71268bed",
   "metadata": {},
   "outputs": [
    {
     "data": {
      "text/plain": [
       "0"
      ]
     },
     "execution_count": 12,
     "metadata": {},
     "output_type": "execute_result"
    }
   ],
   "source": [
    "data.isnull().any().sum()"
   ]
  },
  {
   "cell_type": "markdown",
   "id": "9a9f3715",
   "metadata": {},
   "source": [
    "### Check dat_types of every feature"
   ]
  },
  {
   "cell_type": "code",
   "execution_count": 13,
   "id": "f4f9d5c8",
   "metadata": {},
   "outputs": [
    {
     "data": {
      "text/plain": [
       "password    object\n",
       "strength     int64\n",
       "dtype: object"
      ]
     },
     "execution_count": 13,
     "metadata": {},
     "output_type": "execute_result"
    }
   ],
   "source": [
    "data.dtypes"
   ]
  },
  {
   "cell_type": "markdown",
   "id": "cbfb1f2b",
   "metadata": {},
   "source": [
    "### checking whether \"strength\" feature has ir-relevant values or not "
   ]
  },
  {
   "cell_type": "code",
   "execution_count": 14,
   "id": "b0e4a087",
   "metadata": {},
   "outputs": [
    {
     "data": {
      "text/plain": [
       "0        1\n",
       "1        1\n",
       "2        1\n",
       "3        2\n",
       "4        1\n",
       "        ..\n",
       "99995    1\n",
       "99996    1\n",
       "99997    1\n",
       "99998    1\n",
       "99999    1\n",
       "Name: strength, Length: 100000, dtype: int64"
      ]
     },
     "execution_count": 14,
     "metadata": {},
     "output_type": "execute_result"
    }
   ],
   "source": [
    "data[\"strength\"]"
   ]
  },
  {
   "cell_type": "code",
   "execution_count": 15,
   "id": "648048c6",
   "metadata": {},
   "outputs": [
    {
     "data": {
      "text/plain": [
       "array([1, 2, 0], dtype=int64)"
      ]
     },
     "execution_count": 15,
     "metadata": {},
     "output_type": "execute_result"
    }
   ],
   "source": [
    "# uniuqe() it is used for ir-relavante function\n",
    "data[\"strength\"].unique()"
   ]
  },
  {
   "cell_type": "markdown",
   "id": "bba84959",
   "metadata": {},
   "source": [
    "# 3. Performing Semantic Analysis "
   ]
  },
  {
   "cell_type": "code",
   "execution_count": 16,
   "id": "8ca9bad7",
   "metadata": {},
   "outputs": [
    {
     "data": {
      "text/plain": [
       "Index(['password', 'strength'], dtype='object')"
      ]
     },
     "execution_count": 16,
     "metadata": {},
     "output_type": "execute_result"
    }
   ],
   "source": [
    "data.columns"
   ]
  },
  {
   "cell_type": "code",
   "execution_count": 17,
   "id": "c0887b03",
   "metadata": {},
   "outputs": [
    {
     "data": {
      "text/plain": [
       "str"
      ]
     },
     "execution_count": 17,
     "metadata": {},
     "output_type": "execute_result"
    }
   ],
   "source": [
    "type(data[\"password\"][0])"
   ]
  },
  {
   "cell_type": "markdown",
   "id": "3c3918a9",
   "metadata": {},
   "source": [
    "### A. How many password textual actually holds only numeric characters"
   ]
  },
  {
   "cell_type": "code",
   "execution_count": 18,
   "id": "93f6298a",
   "metadata": {},
   "outputs": [
    {
     "data": {
      "text/plain": [
       "0        False\n",
       "1        False\n",
       "2        False\n",
       "3        False\n",
       "4        False\n",
       "         ...  \n",
       "99995    False\n",
       "99996    False\n",
       "99997    False\n",
       "99998    False\n",
       "99999    False\n",
       "Name: password, Length: 100000, dtype: bool"
      ]
     },
     "execution_count": 18,
     "metadata": {},
     "output_type": "execute_result"
    }
   ],
   "source": [
    "data[\"password\"].str.isnumeric()"
   ]
  },
  {
   "cell_type": "code",
   "execution_count": 19,
   "id": "51d28774",
   "metadata": {},
   "outputs": [
    {
     "data": {
      "text/html": [
       "<div>\n",
       "<style scoped>\n",
       "    .dataframe tbody tr th:only-of-type {\n",
       "        vertical-align: middle;\n",
       "    }\n",
       "\n",
       "    .dataframe tbody tr th {\n",
       "        vertical-align: top;\n",
       "    }\n",
       "\n",
       "    .dataframe thead th {\n",
       "        text-align: right;\n",
       "    }\n",
       "</style>\n",
       "<table border=\"1\" class=\"dataframe\">\n",
       "  <thead>\n",
       "    <tr style=\"text-align: right;\">\n",
       "      <th></th>\n",
       "      <th>password</th>\n",
       "      <th>strength</th>\n",
       "    </tr>\n",
       "  </thead>\n",
       "  <tbody>\n",
       "    <tr>\n",
       "      <th>12280</th>\n",
       "      <td>943801</td>\n",
       "      <td>0</td>\n",
       "    </tr>\n",
       "    <tr>\n",
       "      <th>14992</th>\n",
       "      <td>12345</td>\n",
       "      <td>0</td>\n",
       "    </tr>\n",
       "    <tr>\n",
       "      <th>20958</th>\n",
       "      <td>147856</td>\n",
       "      <td>0</td>\n",
       "    </tr>\n",
       "    <tr>\n",
       "      <th>21671</th>\n",
       "      <td>140290</td>\n",
       "      <td>0</td>\n",
       "    </tr>\n",
       "    <tr>\n",
       "      <th>23269</th>\n",
       "      <td>123987</td>\n",
       "      <td>0</td>\n",
       "    </tr>\n",
       "    <tr>\n",
       "      <th>28569</th>\n",
       "      <td>1233214</td>\n",
       "      <td>0</td>\n",
       "    </tr>\n",
       "    <tr>\n",
       "      <th>31329</th>\n",
       "      <td>0159456</td>\n",
       "      <td>0</td>\n",
       "    </tr>\n",
       "    <tr>\n",
       "      <th>32574</th>\n",
       "      <td>363761</td>\n",
       "      <td>0</td>\n",
       "    </tr>\n",
       "    <tr>\n",
       "      <th>37855</th>\n",
       "      <td>4524344</td>\n",
       "      <td>0</td>\n",
       "    </tr>\n",
       "    <tr>\n",
       "      <th>43648</th>\n",
       "      <td>5521597</td>\n",
       "      <td>0</td>\n",
       "    </tr>\n",
       "    <tr>\n",
       "      <th>45271</th>\n",
       "      <td>626262</td>\n",
       "      <td>0</td>\n",
       "    </tr>\n",
       "    <tr>\n",
       "      <th>52266</th>\n",
       "      <td>156651</td>\n",
       "      <td>0</td>\n",
       "    </tr>\n",
       "    <tr>\n",
       "      <th>58717</th>\n",
       "      <td>369</td>\n",
       "      <td>0</td>\n",
       "    </tr>\n",
       "    <tr>\n",
       "      <th>59619</th>\n",
       "      <td>151106</td>\n",
       "      <td>0</td>\n",
       "    </tr>\n",
       "    <tr>\n",
       "      <th>67723</th>\n",
       "      <td>1234</td>\n",
       "      <td>0</td>\n",
       "    </tr>\n",
       "    <tr>\n",
       "      <th>68106</th>\n",
       "      <td>1995151</td>\n",
       "      <td>0</td>\n",
       "    </tr>\n",
       "    <tr>\n",
       "      <th>68592</th>\n",
       "      <td>112233</td>\n",
       "      <td>0</td>\n",
       "    </tr>\n",
       "    <tr>\n",
       "      <th>69255</th>\n",
       "      <td>9562489</td>\n",
       "      <td>0</td>\n",
       "    </tr>\n",
       "    <tr>\n",
       "      <th>74938</th>\n",
       "      <td>12</td>\n",
       "      <td>0</td>\n",
       "    </tr>\n",
       "    <tr>\n",
       "      <th>77298</th>\n",
       "      <td>18731</td>\n",
       "      <td>0</td>\n",
       "    </tr>\n",
       "    <tr>\n",
       "      <th>86406</th>\n",
       "      <td>1050</td>\n",
       "      <td>0</td>\n",
       "    </tr>\n",
       "    <tr>\n",
       "      <th>86608</th>\n",
       "      <td>158491</td>\n",
       "      <td>0</td>\n",
       "    </tr>\n",
       "    <tr>\n",
       "      <th>94908</th>\n",
       "      <td>060415</td>\n",
       "      <td>0</td>\n",
       "    </tr>\n",
       "    <tr>\n",
       "      <th>96459</th>\n",
       "      <td>1</td>\n",
       "      <td>0</td>\n",
       "    </tr>\n",
       "    <tr>\n",
       "      <th>98122</th>\n",
       "      <td>6975818</td>\n",
       "      <td>0</td>\n",
       "    </tr>\n",
       "    <tr>\n",
       "      <th>98248</th>\n",
       "      <td>454545</td>\n",
       "      <td>0</td>\n",
       "    </tr>\n",
       "  </tbody>\n",
       "</table>\n",
       "</div>"
      ],
      "text/plain": [
       "      password  strength\n",
       "12280   943801         0\n",
       "14992    12345         0\n",
       "20958   147856         0\n",
       "21671   140290         0\n",
       "23269   123987         0\n",
       "28569  1233214         0\n",
       "31329  0159456         0\n",
       "32574   363761         0\n",
       "37855  4524344         0\n",
       "43648  5521597         0\n",
       "45271   626262         0\n",
       "52266   156651         0\n",
       "58717      369         0\n",
       "59619   151106         0\n",
       "67723     1234         0\n",
       "68106  1995151         0\n",
       "68592   112233         0\n",
       "69255  9562489         0\n",
       "74938       12         0\n",
       "77298    18731         0\n",
       "86406     1050         0\n",
       "86608   158491         0\n",
       "94908   060415         0\n",
       "96459        1         0\n",
       "98122  6975818         0\n",
       "98248   454545         0"
      ]
     },
     "execution_count": 19,
     "metadata": {},
     "output_type": "execute_result"
    }
   ],
   "source": [
    "data[data[\"password\"].str.isnumeric()]"
   ]
  },
  {
   "cell_type": "code",
   "execution_count": 20,
   "id": "242150de",
   "metadata": {},
   "outputs": [
    {
     "data": {
      "text/plain": [
       "(26, 2)"
      ]
     },
     "execution_count": 20,
     "metadata": {},
     "output_type": "execute_result"
    }
   ],
   "source": [
    "data[data[\"password\"].str.isnumeric()].shape"
   ]
  },
  {
   "cell_type": "markdown",
   "id": "a312068e",
   "metadata": {},
   "source": [
    "### B. How many password textual actually holds only Upper-case character"
   ]
  },
  {
   "cell_type": "code",
   "execution_count": 21,
   "id": "5eaa929a",
   "metadata": {},
   "outputs": [
    {
     "data": {
      "text/html": [
       "<div>\n",
       "<style scoped>\n",
       "    .dataframe tbody tr th:only-of-type {\n",
       "        vertical-align: middle;\n",
       "    }\n",
       "\n",
       "    .dataframe tbody tr th {\n",
       "        vertical-align: top;\n",
       "    }\n",
       "\n",
       "    .dataframe thead th {\n",
       "        text-align: right;\n",
       "    }\n",
       "</style>\n",
       "<table border=\"1\" class=\"dataframe\">\n",
       "  <thead>\n",
       "    <tr style=\"text-align: right;\">\n",
       "      <th></th>\n",
       "      <th>password</th>\n",
       "      <th>strength</th>\n",
       "    </tr>\n",
       "  </thead>\n",
       "  <tbody>\n",
       "    <tr>\n",
       "      <th>115</th>\n",
       "      <td>EYT63119</td>\n",
       "      <td>1</td>\n",
       "    </tr>\n",
       "    <tr>\n",
       "      <th>273</th>\n",
       "      <td>INSPIRON6</td>\n",
       "      <td>1</td>\n",
       "    </tr>\n",
       "    <tr>\n",
       "      <th>338</th>\n",
       "      <td>1A2S3D4F</td>\n",
       "      <td>1</td>\n",
       "    </tr>\n",
       "    <tr>\n",
       "      <th>367</th>\n",
       "      <td>13269123A</td>\n",
       "      <td>1</td>\n",
       "    </tr>\n",
       "    <tr>\n",
       "      <th>373</th>\n",
       "      <td>YAMAZAKI82</td>\n",
       "      <td>1</td>\n",
       "    </tr>\n",
       "    <tr>\n",
       "      <th>...</th>\n",
       "      <td>...</td>\n",
       "      <td>...</td>\n",
       "    </tr>\n",
       "    <tr>\n",
       "      <th>99590</th>\n",
       "      <td>V13000993J</td>\n",
       "      <td>1</td>\n",
       "    </tr>\n",
       "    <tr>\n",
       "      <th>99692</th>\n",
       "      <td>65925013ABC</td>\n",
       "      <td>1</td>\n",
       "    </tr>\n",
       "    <tr>\n",
       "      <th>99784</th>\n",
       "      <td>01EDD055</td>\n",
       "      <td>1</td>\n",
       "    </tr>\n",
       "    <tr>\n",
       "      <th>99893</th>\n",
       "      <td>1UPONYOU</td>\n",
       "      <td>1</td>\n",
       "    </tr>\n",
       "    <tr>\n",
       "      <th>99910</th>\n",
       "      <td>UNION1</td>\n",
       "      <td>0</td>\n",
       "    </tr>\n",
       "  </tbody>\n",
       "</table>\n",
       "<p>1506 rows × 2 columns</p>\n",
       "</div>"
      ],
      "text/plain": [
       "          password  strength\n",
       "115       EYT63119         1\n",
       "273      INSPIRON6         1\n",
       "338       1A2S3D4F         1\n",
       "367      13269123A         1\n",
       "373     YAMAZAKI82         1\n",
       "...            ...       ...\n",
       "99590   V13000993J         1\n",
       "99692  65925013ABC         1\n",
       "99784     01EDD055         1\n",
       "99893     1UPONYOU         1\n",
       "99910       UNION1         0\n",
       "\n",
       "[1506 rows x 2 columns]"
      ]
     },
     "execution_count": 21,
     "metadata": {},
     "output_type": "execute_result"
    }
   ],
   "source": [
    "data[data[\"password\"].str.isupper()]"
   ]
  },
  {
   "cell_type": "markdown",
   "id": "aa71fbf9",
   "metadata": {},
   "source": [
    "### C. How many password textual actually holds only alphabet"
   ]
  },
  {
   "cell_type": "code",
   "execution_count": 22,
   "id": "18629f0c",
   "metadata": {},
   "outputs": [
    {
     "data": {
      "text/plain": [
       "(1506, 2)"
      ]
     },
     "execution_count": 22,
     "metadata": {},
     "output_type": "execute_result"
    }
   ],
   "source": [
    "data[data[\"password\"].str.isupper()].shape"
   ]
  },
  {
   "cell_type": "code",
   "execution_count": 23,
   "id": "2cadd177",
   "metadata": {},
   "outputs": [
    {
     "data": {
      "text/html": [
       "<div>\n",
       "<style scoped>\n",
       "    .dataframe tbody tr th:only-of-type {\n",
       "        vertical-align: middle;\n",
       "    }\n",
       "\n",
       "    .dataframe tbody tr th {\n",
       "        vertical-align: top;\n",
       "    }\n",
       "\n",
       "    .dataframe thead th {\n",
       "        text-align: right;\n",
       "    }\n",
       "</style>\n",
       "<table border=\"1\" class=\"dataframe\">\n",
       "  <thead>\n",
       "    <tr style=\"text-align: right;\">\n",
       "      <th></th>\n",
       "      <th>password</th>\n",
       "      <th>strength</th>\n",
       "    </tr>\n",
       "  </thead>\n",
       "  <tbody>\n",
       "    <tr>\n",
       "      <th>267</th>\n",
       "      <td>PomarancaÇ</td>\n",
       "      <td>1</td>\n",
       "    </tr>\n",
       "    <tr>\n",
       "      <th>1380</th>\n",
       "      <td>smgodt</td>\n",
       "      <td>0</td>\n",
       "    </tr>\n",
       "    <tr>\n",
       "      <th>3198</th>\n",
       "      <td>cuado</td>\n",
       "      <td>0</td>\n",
       "    </tr>\n",
       "    <tr>\n",
       "      <th>4560</th>\n",
       "      <td>jelsz</td>\n",
       "      <td>0</td>\n",
       "    </tr>\n",
       "    <tr>\n",
       "      <th>6380</th>\n",
       "      <td>demsxp</td>\n",
       "      <td>0</td>\n",
       "    </tr>\n",
       "    <tr>\n",
       "      <th>7803</th>\n",
       "      <td>secret</td>\n",
       "      <td>0</td>\n",
       "    </tr>\n",
       "    <tr>\n",
       "      <th>9218</th>\n",
       "      <td>caballo</td>\n",
       "      <td>0</td>\n",
       "    </tr>\n",
       "    <tr>\n",
       "      <th>11555</th>\n",
       "      <td>mhe</td>\n",
       "      <td>0</td>\n",
       "    </tr>\n",
       "    <tr>\n",
       "      <th>11667</th>\n",
       "      <td>kreedo</td>\n",
       "      <td>0</td>\n",
       "    </tr>\n",
       "    <tr>\n",
       "      <th>13645</th>\n",
       "      <td>nõmlich</td>\n",
       "      <td>0</td>\n",
       "    </tr>\n",
       "    <tr>\n",
       "      <th>14665</th>\n",
       "      <td>tahiana</td>\n",
       "      <td>0</td>\n",
       "    </tr>\n",
       "    <tr>\n",
       "      <th>14890</th>\n",
       "      <td>bolaos</td>\n",
       "      <td>0</td>\n",
       "    </tr>\n",
       "    <tr>\n",
       "      <th>16741</th>\n",
       "      <td>sherry</td>\n",
       "      <td>0</td>\n",
       "    </tr>\n",
       "    <tr>\n",
       "      <th>18066</th>\n",
       "      <td>llÚÚßß</td>\n",
       "      <td>0</td>\n",
       "    </tr>\n",
       "    <tr>\n",
       "      <th>19500</th>\n",
       "      <td>maraa</td>\n",
       "      <td>0</td>\n",
       "    </tr>\n",
       "    <tr>\n",
       "      <th>25572</th>\n",
       "      <td>akido</td>\n",
       "      <td>0</td>\n",
       "    </tr>\n",
       "    <tr>\n",
       "      <th>26472</th>\n",
       "      <td>abcde</td>\n",
       "      <td>0</td>\n",
       "    </tr>\n",
       "    <tr>\n",
       "      <th>28238</th>\n",
       "      <td>HAMED</td>\n",
       "      <td>0</td>\n",
       "    </tr>\n",
       "    <tr>\n",
       "      <th>29116</th>\n",
       "      <td>cacinG</td>\n",
       "      <td>0</td>\n",
       "    </tr>\n",
       "    <tr>\n",
       "      <th>31029</th>\n",
       "      <td>indißn</td>\n",
       "      <td>0</td>\n",
       "    </tr>\n",
       "    <tr>\n",
       "      <th>32283</th>\n",
       "      <td>niatkm</td>\n",
       "      <td>0</td>\n",
       "    </tr>\n",
       "    <tr>\n",
       "      <th>36935</th>\n",
       "      <td>sarokkd</td>\n",
       "      <td>0</td>\n",
       "    </tr>\n",
       "    <tr>\n",
       "      <th>46289</th>\n",
       "      <td>zxcvbnm</td>\n",
       "      <td>0</td>\n",
       "    </tr>\n",
       "    <tr>\n",
       "      <th>48091</th>\n",
       "      <td>taison</td>\n",
       "      <td>0</td>\n",
       "    </tr>\n",
       "    <tr>\n",
       "      <th>48204</th>\n",
       "      <td>jasacom</td>\n",
       "      <td>0</td>\n",
       "    </tr>\n",
       "    <tr>\n",
       "      <th>48943</th>\n",
       "      <td>elseor</td>\n",
       "      <td>0</td>\n",
       "    </tr>\n",
       "    <tr>\n",
       "      <th>49608</th>\n",
       "      <td>elango</td>\n",
       "      <td>0</td>\n",
       "    </tr>\n",
       "    <tr>\n",
       "      <th>51434</th>\n",
       "      <td>lestari</td>\n",
       "      <td>0</td>\n",
       "    </tr>\n",
       "    <tr>\n",
       "      <th>52874</th>\n",
       "      <td>anhyeem</td>\n",
       "      <td>0</td>\n",
       "    </tr>\n",
       "    <tr>\n",
       "      <th>56272</th>\n",
       "      <td>briceo</td>\n",
       "      <td>0</td>\n",
       "    </tr>\n",
       "    <tr>\n",
       "      <th>61580</th>\n",
       "      <td>askim</td>\n",
       "      <td>0</td>\n",
       "    </tr>\n",
       "    <tr>\n",
       "      <th>61993</th>\n",
       "      <td>dßniel</td>\n",
       "      <td>0</td>\n",
       "    </tr>\n",
       "    <tr>\n",
       "      <th>63031</th>\n",
       "      <td>kimota</td>\n",
       "      <td>0</td>\n",
       "    </tr>\n",
       "    <tr>\n",
       "      <th>67165</th>\n",
       "      <td>trcske</td>\n",
       "      <td>0</td>\n",
       "    </tr>\n",
       "    <tr>\n",
       "      <th>67593</th>\n",
       "      <td>BRTTAM</td>\n",
       "      <td>0</td>\n",
       "    </tr>\n",
       "    <tr>\n",
       "      <th>69501</th>\n",
       "      <td>cuada</td>\n",
       "      <td>0</td>\n",
       "    </tr>\n",
       "    <tr>\n",
       "      <th>73125</th>\n",
       "      <td>hepkret</td>\n",
       "      <td>0</td>\n",
       "    </tr>\n",
       "    <tr>\n",
       "      <th>74049</th>\n",
       "      <td>anann</td>\n",
       "      <td>0</td>\n",
       "    </tr>\n",
       "    <tr>\n",
       "      <th>74553</th>\n",
       "      <td>kobraak</td>\n",
       "      <td>0</td>\n",
       "    </tr>\n",
       "    <tr>\n",
       "      <th>75073</th>\n",
       "      <td>glemlak</td>\n",
       "      <td>0</td>\n",
       "    </tr>\n",
       "    <tr>\n",
       "      <th>75294</th>\n",
       "      <td>jgkocka</td>\n",
       "      <td>0</td>\n",
       "    </tr>\n",
       "    <tr>\n",
       "      <th>76977</th>\n",
       "      <td>Dungeon</td>\n",
       "      <td>0</td>\n",
       "    </tr>\n",
       "    <tr>\n",
       "      <th>78199</th>\n",
       "      <td>nikuÜka</td>\n",
       "      <td>0</td>\n",
       "    </tr>\n",
       "    <tr>\n",
       "      <th>80307</th>\n",
       "      <td>castao</td>\n",
       "      <td>0</td>\n",
       "    </tr>\n",
       "    <tr>\n",
       "      <th>82638</th>\n",
       "      <td>winseen</td>\n",
       "      <td>0</td>\n",
       "    </tr>\n",
       "    <tr>\n",
       "      <th>84115</th>\n",
       "      <td>sayap</td>\n",
       "      <td>0</td>\n",
       "    </tr>\n",
       "    <tr>\n",
       "      <th>85423</th>\n",
       "      <td>adgjl</td>\n",
       "      <td>0</td>\n",
       "    </tr>\n",
       "    <tr>\n",
       "      <th>89287</th>\n",
       "      <td>nyomork</td>\n",
       "      <td>0</td>\n",
       "    </tr>\n",
       "    <tr>\n",
       "      <th>92715</th>\n",
       "      <td>regipek</td>\n",
       "      <td>0</td>\n",
       "    </tr>\n",
       "    <tr>\n",
       "      <th>92992</th>\n",
       "      <td>grkan</td>\n",
       "      <td>0</td>\n",
       "    </tr>\n",
       "  </tbody>\n",
       "</table>\n",
       "</div>"
      ],
      "text/plain": [
       "         password  strength\n",
       "267    PomarancaÇ         1\n",
       "1380       smgodt         0\n",
       "3198        cuado         0\n",
       "4560        jelsz         0\n",
       "6380       demsxp         0\n",
       "7803       secret         0\n",
       "9218      caballo         0\n",
       "11555         mhe         0\n",
       "11667      kreedo         0\n",
       "13645     nõmlich         0\n",
       "14665     tahiana         0\n",
       "14890      bolaos         0\n",
       "16741      sherry         0\n",
       "18066      llÚÚßß         0\n",
       "19500       maraa         0\n",
       "25572       akido         0\n",
       "26472       abcde         0\n",
       "28238       HAMED         0\n",
       "29116      cacinG         0\n",
       "31029      indißn         0\n",
       "32283      niatkm         0\n",
       "36935     sarokkd         0\n",
       "46289     zxcvbnm         0\n",
       "48091      taison         0\n",
       "48204     jasacom         0\n",
       "48943      elseor         0\n",
       "49608      elango         0\n",
       "51434     lestari         0\n",
       "52874     anhyeem         0\n",
       "56272      briceo         0\n",
       "61580       askim         0\n",
       "61993      dßniel         0\n",
       "63031      kimota         0\n",
       "67165      trcske         0\n",
       "67593      BRTTAM         0\n",
       "69501       cuada         0\n",
       "73125     hepkret         0\n",
       "74049       anann         0\n",
       "74553     kobraak         0\n",
       "75073     glemlak         0\n",
       "75294     jgkocka         0\n",
       "76977     Dungeon         0\n",
       "78199     nikuÜka         0\n",
       "80307      castao         0\n",
       "82638     winseen         0\n",
       "84115       sayap         0\n",
       "85423       adgjl         0\n",
       "89287     nyomork         0\n",
       "92715     regipek         0\n",
       "92992       grkan         0"
      ]
     },
     "execution_count": 23,
     "metadata": {},
     "output_type": "execute_result"
    }
   ],
   "source": [
    "data[data[\"password\"].str.isalpha()]"
   ]
  },
  {
   "cell_type": "code",
   "execution_count": 24,
   "id": "1880b522",
   "metadata": {},
   "outputs": [
    {
     "data": {
      "text/plain": [
       "(50, 2)"
      ]
     },
     "execution_count": 24,
     "metadata": {},
     "output_type": "execute_result"
    }
   ],
   "source": [
    "data[data[\"password\"].str.isalpha()].shape"
   ]
  },
  {
   "cell_type": "markdown",
   "id": "93ab33ad",
   "metadata": {},
   "source": [
    "### D. How many password textual actually holds alpha-numeric character "
   ]
  },
  {
   "cell_type": "code",
   "execution_count": 25,
   "id": "18c59812",
   "metadata": {},
   "outputs": [
    {
     "data": {
      "text/html": [
       "<div>\n",
       "<style scoped>\n",
       "    .dataframe tbody tr th:only-of-type {\n",
       "        vertical-align: middle;\n",
       "    }\n",
       "\n",
       "    .dataframe tbody tr th {\n",
       "        vertical-align: top;\n",
       "    }\n",
       "\n",
       "    .dataframe thead th {\n",
       "        text-align: right;\n",
       "    }\n",
       "</style>\n",
       "<table border=\"1\" class=\"dataframe\">\n",
       "  <thead>\n",
       "    <tr style=\"text-align: right;\">\n",
       "      <th></th>\n",
       "      <th>password</th>\n",
       "      <th>strength</th>\n",
       "    </tr>\n",
       "  </thead>\n",
       "  <tbody>\n",
       "    <tr>\n",
       "      <th>0</th>\n",
       "      <td>zxe870819</td>\n",
       "      <td>1</td>\n",
       "    </tr>\n",
       "    <tr>\n",
       "      <th>1</th>\n",
       "      <td>xw46454nr23l</td>\n",
       "      <td>1</td>\n",
       "    </tr>\n",
       "    <tr>\n",
       "      <th>2</th>\n",
       "      <td>soporte13</td>\n",
       "      <td>1</td>\n",
       "    </tr>\n",
       "    <tr>\n",
       "      <th>4</th>\n",
       "      <td>c443balg</td>\n",
       "      <td>1</td>\n",
       "    </tr>\n",
       "    <tr>\n",
       "      <th>5</th>\n",
       "      <td>16623670p</td>\n",
       "      <td>1</td>\n",
       "    </tr>\n",
       "    <tr>\n",
       "      <th>...</th>\n",
       "      <td>...</td>\n",
       "      <td>...</td>\n",
       "    </tr>\n",
       "    <tr>\n",
       "      <th>99995</th>\n",
       "      <td>obejofi215</td>\n",
       "      <td>1</td>\n",
       "    </tr>\n",
       "    <tr>\n",
       "      <th>99996</th>\n",
       "      <td>fmiopvxb64</td>\n",
       "      <td>1</td>\n",
       "    </tr>\n",
       "    <tr>\n",
       "      <th>99997</th>\n",
       "      <td>czvrbun38</td>\n",
       "      <td>1</td>\n",
       "    </tr>\n",
       "    <tr>\n",
       "      <th>99998</th>\n",
       "      <td>mymyxe430</td>\n",
       "      <td>1</td>\n",
       "    </tr>\n",
       "    <tr>\n",
       "      <th>99999</th>\n",
       "      <td>glqjhkxb467</td>\n",
       "      <td>1</td>\n",
       "    </tr>\n",
       "  </tbody>\n",
       "</table>\n",
       "<p>97203 rows × 2 columns</p>\n",
       "</div>"
      ],
      "text/plain": [
       "           password  strength\n",
       "0         zxe870819         1\n",
       "1      xw46454nr23l         1\n",
       "2         soporte13         1\n",
       "4          c443balg         1\n",
       "5         16623670p         1\n",
       "...             ...       ...\n",
       "99995    obejofi215         1\n",
       "99996    fmiopvxb64         1\n",
       "99997     czvrbun38         1\n",
       "99998     mymyxe430         1\n",
       "99999   glqjhkxb467         1\n",
       "\n",
       "[97203 rows x 2 columns]"
      ]
     },
     "execution_count": 25,
     "metadata": {},
     "output_type": "execute_result"
    }
   ],
   "source": [
    "data[data[\"password\"].str.isalnum()]"
   ]
  },
  {
   "cell_type": "code",
   "execution_count": 26,
   "id": "ac4a7b68",
   "metadata": {},
   "outputs": [
    {
     "data": {
      "text/plain": [
       "(97203, 2)"
      ]
     },
     "execution_count": 26,
     "metadata": {},
     "output_type": "execute_result"
    }
   ],
   "source": [
    "data[data[\"password\"].str.isalnum()].shape"
   ]
  },
  {
   "cell_type": "markdown",
   "id": "815465e4",
   "metadata": {},
   "source": [
    "### E. How many password textual actually holds title-case character"
   ]
  },
  {
   "cell_type": "code",
   "execution_count": 27,
   "id": "9beab4d1",
   "metadata": {},
   "outputs": [
    {
     "data": {
      "text/html": [
       "<div>\n",
       "<style scoped>\n",
       "    .dataframe tbody tr th:only-of-type {\n",
       "        vertical-align: middle;\n",
       "    }\n",
       "\n",
       "    .dataframe tbody tr th {\n",
       "        vertical-align: top;\n",
       "    }\n",
       "\n",
       "    .dataframe thead th {\n",
       "        text-align: right;\n",
       "    }\n",
       "</style>\n",
       "<table border=\"1\" class=\"dataframe\">\n",
       "  <thead>\n",
       "    <tr style=\"text-align: right;\">\n",
       "      <th></th>\n",
       "      <th>password</th>\n",
       "      <th>strength</th>\n",
       "    </tr>\n",
       "  </thead>\n",
       "  <tbody>\n",
       "    <tr>\n",
       "      <th>64</th>\n",
       "      <td>Hisanthoshjasika0</td>\n",
       "      <td>2</td>\n",
       "    </tr>\n",
       "    <tr>\n",
       "      <th>242</th>\n",
       "      <td>Therockrockbottom72</td>\n",
       "      <td>2</td>\n",
       "    </tr>\n",
       "    <tr>\n",
       "      <th>338</th>\n",
       "      <td>1A2S3D4F</td>\n",
       "      <td>1</td>\n",
       "    </tr>\n",
       "    <tr>\n",
       "      <th>367</th>\n",
       "      <td>13269123A</td>\n",
       "      <td>1</td>\n",
       "    </tr>\n",
       "    <tr>\n",
       "      <th>526</th>\n",
       "      <td>Csicskarozsika1</td>\n",
       "      <td>2</td>\n",
       "    </tr>\n",
       "    <tr>\n",
       "      <th>...</th>\n",
       "      <td>...</td>\n",
       "      <td>...</td>\n",
       "    </tr>\n",
       "    <tr>\n",
       "      <th>99168</th>\n",
       "      <td>1053815198M</td>\n",
       "      <td>1</td>\n",
       "    </tr>\n",
       "    <tr>\n",
       "      <th>99192</th>\n",
       "      <td>Alfranx05122023</td>\n",
       "      <td>2</td>\n",
       "    </tr>\n",
       "    <tr>\n",
       "      <th>99375</th>\n",
       "      <td>Kensington1956</td>\n",
       "      <td>2</td>\n",
       "    </tr>\n",
       "    <tr>\n",
       "      <th>99590</th>\n",
       "      <td>V13000993J</td>\n",
       "      <td>1</td>\n",
       "    </tr>\n",
       "    <tr>\n",
       "      <th>99654</th>\n",
       "      <td>94010Centuripe</td>\n",
       "      <td>2</td>\n",
       "    </tr>\n",
       "  </tbody>\n",
       "</table>\n",
       "<p>932 rows × 2 columns</p>\n",
       "</div>"
      ],
      "text/plain": [
       "                  password  strength\n",
       "64       Hisanthoshjasika0         2\n",
       "242    Therockrockbottom72         2\n",
       "338               1A2S3D4F         1\n",
       "367              13269123A         1\n",
       "526        Csicskarozsika1         2\n",
       "...                    ...       ...\n",
       "99168          1053815198M         1\n",
       "99192      Alfranx05122023         2\n",
       "99375       Kensington1956         2\n",
       "99590           V13000993J         1\n",
       "99654       94010Centuripe         2\n",
       "\n",
       "[932 rows x 2 columns]"
      ]
     },
     "execution_count": 27,
     "metadata": {},
     "output_type": "execute_result"
    }
   ],
   "source": [
    "data[data[\"password\"].str.istitle()]"
   ]
  },
  {
   "cell_type": "code",
   "execution_count": 28,
   "id": "f6344583",
   "metadata": {},
   "outputs": [
    {
     "data": {
      "text/plain": [
       "(932, 2)"
      ]
     },
     "execution_count": 28,
     "metadata": {},
     "output_type": "execute_result"
    }
   ],
   "source": [
    "data[data[\"password\"].str.istitle()].shape"
   ]
  },
  {
   "cell_type": "markdown",
   "id": "93ecf446",
   "metadata": {},
   "source": [
    "### F. How many password textual actually holds special character"
   ]
  },
  {
   "cell_type": "code",
   "execution_count": 29,
   "id": "ec121fd8",
   "metadata": {},
   "outputs": [
    {
     "data": {
      "text/plain": [
       "0                      zxe870819\n",
       "1                   xw46454nr23l\n",
       "2                      soporte13\n",
       "3        accounts6000webhost.com\n",
       "4                       c443balg\n",
       "                  ...           \n",
       "99995                 obejofi215\n",
       "99996                 fmiopvxb64\n",
       "99997                  czvrbun38\n",
       "99998                  mymyxe430\n",
       "99999                glqjhkxb467\n",
       "Name: password, Length: 100000, dtype: object"
      ]
     },
     "execution_count": 29,
     "metadata": {},
     "output_type": "execute_result"
    }
   ],
   "source": [
    "data[\"password\"]"
   ]
  },
  {
   "cell_type": "code",
   "execution_count": 30,
   "id": "f9fa0b3c",
   "metadata": {},
   "outputs": [],
   "source": [
    "import string"
   ]
  },
  {
   "cell_type": "code",
   "execution_count": 31,
   "id": "30b649d3",
   "metadata": {},
   "outputs": [
    {
     "data": {
      "text/plain": [
       "'!\"#$%&\\'()*+,-./:;<=>?@[\\\\]^_`{|}~'"
      ]
     },
     "execution_count": 31,
     "metadata": {},
     "output_type": "execute_result"
    }
   ],
   "source": [
    "string.punctuation"
   ]
  },
  {
   "cell_type": "code",
   "execution_count": 32,
   "id": "5828c56c",
   "metadata": {},
   "outputs": [],
   "source": [
    "def find_semantics(row):\n",
    "    for char in row:\n",
    "        if char in string.punctuation:\n",
    "            return 1\n",
    "        else:\n",
    "            pass"
   ]
  },
  {
   "cell_type": "code",
   "execution_count": 33,
   "id": "f7d87bb7",
   "metadata": {},
   "outputs": [
    {
     "data": {
      "text/plain": [
       "0        False\n",
       "1        False\n",
       "2        False\n",
       "3         True\n",
       "4        False\n",
       "         ...  \n",
       "99995    False\n",
       "99996    False\n",
       "99997    False\n",
       "99998    False\n",
       "99999    False\n",
       "Name: password, Length: 100000, dtype: bool"
      ]
     },
     "execution_count": 33,
     "metadata": {},
     "output_type": "execute_result"
    }
   ],
   "source": [
    "data[\"password\"].apply(find_semantics)==1"
   ]
  },
  {
   "cell_type": "code",
   "execution_count": 34,
   "id": "efb970e4",
   "metadata": {},
   "outputs": [
    {
     "data": {
      "text/html": [
       "<div>\n",
       "<style scoped>\n",
       "    .dataframe tbody tr th:only-of-type {\n",
       "        vertical-align: middle;\n",
       "    }\n",
       "\n",
       "    .dataframe tbody tr th {\n",
       "        vertical-align: top;\n",
       "    }\n",
       "\n",
       "    .dataframe thead th {\n",
       "        text-align: right;\n",
       "    }\n",
       "</style>\n",
       "<table border=\"1\" class=\"dataframe\">\n",
       "  <thead>\n",
       "    <tr style=\"text-align: right;\">\n",
       "      <th></th>\n",
       "      <th>password</th>\n",
       "      <th>strength</th>\n",
       "    </tr>\n",
       "  </thead>\n",
       "  <tbody>\n",
       "    <tr>\n",
       "      <th>3</th>\n",
       "      <td>accounts6000webhost.com</td>\n",
       "      <td>2</td>\n",
       "    </tr>\n",
       "    <tr>\n",
       "      <th>68</th>\n",
       "      <td>12463773800+</td>\n",
       "      <td>1</td>\n",
       "    </tr>\n",
       "    <tr>\n",
       "      <th>98</th>\n",
       "      <td>p.r.c.d.g.</td>\n",
       "      <td>1</td>\n",
       "    </tr>\n",
       "    <tr>\n",
       "      <th>145</th>\n",
       "      <td>cita-cita</td>\n",
       "      <td>1</td>\n",
       "    </tr>\n",
       "    <tr>\n",
       "      <th>180</th>\n",
       "      <td>karolina.susnina0U</td>\n",
       "      <td>2</td>\n",
       "    </tr>\n",
       "    <tr>\n",
       "      <th>...</th>\n",
       "      <td>...</td>\n",
       "      <td>...</td>\n",
       "    </tr>\n",
       "    <tr>\n",
       "      <th>99748</th>\n",
       "      <td>maiselis.com</td>\n",
       "      <td>1</td>\n",
       "    </tr>\n",
       "    <tr>\n",
       "      <th>99845</th>\n",
       "      <td>hosting4meze!@#</td>\n",
       "      <td>2</td>\n",
       "    </tr>\n",
       "    <tr>\n",
       "      <th>99954</th>\n",
       "      <td>semista_bakung15</td>\n",
       "      <td>2</td>\n",
       "    </tr>\n",
       "    <tr>\n",
       "      <th>99980</th>\n",
       "      <td>halflife2010!LEB</td>\n",
       "      <td>2</td>\n",
       "    </tr>\n",
       "    <tr>\n",
       "      <th>99988</th>\n",
       "      <td>lbhtrnjh@</td>\n",
       "      <td>1</td>\n",
       "    </tr>\n",
       "  </tbody>\n",
       "</table>\n",
       "<p>2663 rows × 2 columns</p>\n",
       "</div>"
      ],
      "text/plain": [
       "                      password  strength\n",
       "3      accounts6000webhost.com         2\n",
       "68                12463773800+         1\n",
       "98                  p.r.c.d.g.         1\n",
       "145                  cita-cita         1\n",
       "180         karolina.susnina0U         2\n",
       "...                        ...       ...\n",
       "99748             maiselis.com         1\n",
       "99845          hosting4meze!@#         2\n",
       "99954         semista_bakung15         2\n",
       "99980         halflife2010!LEB         2\n",
       "99988                lbhtrnjh@         1\n",
       "\n",
       "[2663 rows x 2 columns]"
      ]
     },
     "execution_count": 34,
     "metadata": {},
     "output_type": "execute_result"
    }
   ],
   "source": [
    "data[data[\"password\"].apply(find_semantics)==1]"
   ]
  },
  {
   "cell_type": "code",
   "execution_count": 35,
   "id": "5a158072",
   "metadata": {},
   "outputs": [
    {
     "data": {
      "text/plain": [
       "(2663, 2)"
      ]
     },
     "execution_count": 35,
     "metadata": {},
     "output_type": "execute_result"
    }
   ],
   "source": [
    "data[data[\"password\"].apply(find_semantics)==1].shape"
   ]
  },
  {
   "cell_type": "markdown",
   "id": "88c238cb",
   "metadata": {},
   "source": [
    "# 4. Applying Feature Engineering"
   ]
  },
  {
   "cell_type": "markdown",
   "id": "7dd963fb",
   "metadata": {},
   "source": [
    "### length of every Password"
   ]
  },
  {
   "cell_type": "code",
   "execution_count": 36,
   "id": "0af4aa56",
   "metadata": {},
   "outputs": [
    {
     "data": {
      "text/plain": [
       "'zxe870819'"
      ]
     },
     "execution_count": 36,
     "metadata": {},
     "output_type": "execute_result"
    }
   ],
   "source": [
    "data[\"password\"][0]"
   ]
  },
  {
   "cell_type": "code",
   "execution_count": 37,
   "id": "ef7a483b",
   "metadata": {},
   "outputs": [
    {
     "data": {
      "text/plain": [
       "9"
      ]
     },
     "execution_count": 37,
     "metadata": {},
     "output_type": "execute_result"
    }
   ],
   "source": [
    "len(data[\"password\"][0])"
   ]
  },
  {
   "cell_type": "code",
   "execution_count": 38,
   "id": "ded121e7",
   "metadata": {},
   "outputs": [
    {
     "data": {
      "text/plain": [
       "0         9\n",
       "1        12\n",
       "2         9\n",
       "3        23\n",
       "4         8\n",
       "         ..\n",
       "99995    10\n",
       "99996    10\n",
       "99997     9\n",
       "99998     9\n",
       "99999    11\n",
       "Name: password, Length: 100000, dtype: int64"
      ]
     },
     "execution_count": 38,
     "metadata": {},
     "output_type": "execute_result"
    }
   ],
   "source": [
    "data[\"password\"].str.len()"
   ]
  },
  {
   "cell_type": "code",
   "execution_count": 39,
   "id": "b6447d46",
   "metadata": {},
   "outputs": [],
   "source": [
    "data[\"length\"] = data[\"password\"].str.len()"
   ]
  },
  {
   "cell_type": "markdown",
   "id": "0a1a3d8e",
   "metadata": {},
   "source": [
    "### Frequency of Lowercase Characters"
   ]
  },
  {
   "cell_type": "code",
   "execution_count": 40,
   "id": "27c3a7ba",
   "metadata": {},
   "outputs": [],
   "source": [
    "password = \"Shan99\""
   ]
  },
  {
   "cell_type": "code",
   "execution_count": 41,
   "id": "740bdcb3",
   "metadata": {},
   "outputs": [
    {
     "data": {
      "text/plain": [
       "['h', 'a', 'n']"
      ]
     },
     "execution_count": 41,
     "metadata": {},
     "output_type": "execute_result"
    }
   ],
   "source": [
    "[char for char in password if char.islower()]"
   ]
  },
  {
   "cell_type": "code",
   "execution_count": 42,
   "id": "ac49b1e0",
   "metadata": {},
   "outputs": [
    {
     "data": {
      "text/plain": [
       "3"
      ]
     },
     "execution_count": 42,
     "metadata": {},
     "output_type": "execute_result"
    }
   ],
   "source": [
    "len([char for char in password if char.islower()])"
   ]
  },
  {
   "cell_type": "code",
   "execution_count": 43,
   "id": "f347772b",
   "metadata": {},
   "outputs": [
    {
     "data": {
      "text/plain": [
       "0.5"
      ]
     },
     "execution_count": 43,
     "metadata": {},
     "output_type": "execute_result"
    }
   ],
   "source": [
    "len([char for char in password if char.islower()])/len(password)"
   ]
  },
  {
   "cell_type": "markdown",
   "id": "988931ca",
   "metadata": {},
   "source": [
    "### Frequency of lowercase Characters "
   ]
  },
  {
   "cell_type": "code",
   "execution_count": 44,
   "id": "46b16325",
   "metadata": {},
   "outputs": [],
   "source": [
    "def freq_lowercase(row):\n",
    "    return len([char for char in row if char.islower()])/len(row)"
   ]
  },
  {
   "cell_type": "markdown",
   "id": "6548ff9c",
   "metadata": {},
   "source": [
    "### Frequency of Uppercase Characters"
   ]
  },
  {
   "cell_type": "code",
   "execution_count": 45,
   "id": "8485d460",
   "metadata": {},
   "outputs": [],
   "source": [
    "def freq_uppercase(row):\n",
    "    return len([char for char in row if char.isupper()])/len(row)"
   ]
  },
  {
   "cell_type": "markdown",
   "id": "d9cec577",
   "metadata": {},
   "source": [
    "### Frequency of Numeric Characters "
   ]
  },
  {
   "cell_type": "code",
   "execution_count": 46,
   "id": "48e9ecbd",
   "metadata": {},
   "outputs": [],
   "source": [
    "def freq_numerical_case(row):\n",
    "    return len([char for char in row if char.isdigit()])/len(row)"
   ]
  },
  {
   "cell_type": "code",
   "execution_count": 47,
   "id": "977b3e80",
   "metadata": {},
   "outputs": [],
   "source": [
    "data[\"lowercase_freq\"] = np.round(data[\"password\"].apply(freq_lowercase) , 3)\n",
    "\n",
    "data[\"uppercase_freq\"] = np.round(data[\"password\"].apply(freq_uppercase) , 3)\n",
    "\n",
    "data[\"digit_freq\"] = np.round(data[\"password\"].apply(freq_numerical_case) , 3)"
   ]
  },
  {
   "cell_type": "code",
   "execution_count": 48,
   "id": "ee87dcbc",
   "metadata": {},
   "outputs": [
    {
     "data": {
      "text/html": [
       "<div>\n",
       "<style scoped>\n",
       "    .dataframe tbody tr th:only-of-type {\n",
       "        vertical-align: middle;\n",
       "    }\n",
       "\n",
       "    .dataframe tbody tr th {\n",
       "        vertical-align: top;\n",
       "    }\n",
       "\n",
       "    .dataframe thead th {\n",
       "        text-align: right;\n",
       "    }\n",
       "</style>\n",
       "<table border=\"1\" class=\"dataframe\">\n",
       "  <thead>\n",
       "    <tr style=\"text-align: right;\">\n",
       "      <th></th>\n",
       "      <th>password</th>\n",
       "      <th>strength</th>\n",
       "      <th>length</th>\n",
       "      <th>lowercase_freq</th>\n",
       "      <th>uppercase_freq</th>\n",
       "      <th>digit_freq</th>\n",
       "    </tr>\n",
       "  </thead>\n",
       "  <tbody>\n",
       "    <tr>\n",
       "      <th>0</th>\n",
       "      <td>zxe870819</td>\n",
       "      <td>1</td>\n",
       "      <td>9</td>\n",
       "      <td>0.333</td>\n",
       "      <td>0.0</td>\n",
       "      <td>0.667</td>\n",
       "    </tr>\n",
       "    <tr>\n",
       "      <th>1</th>\n",
       "      <td>xw46454nr23l</td>\n",
       "      <td>1</td>\n",
       "      <td>12</td>\n",
       "      <td>0.417</td>\n",
       "      <td>0.0</td>\n",
       "      <td>0.583</td>\n",
       "    </tr>\n",
       "    <tr>\n",
       "      <th>2</th>\n",
       "      <td>soporte13</td>\n",
       "      <td>1</td>\n",
       "      <td>9</td>\n",
       "      <td>0.778</td>\n",
       "      <td>0.0</td>\n",
       "      <td>0.222</td>\n",
       "    </tr>\n",
       "  </tbody>\n",
       "</table>\n",
       "</div>"
      ],
      "text/plain": [
       "       password  strength  length  lowercase_freq  uppercase_freq  digit_freq\n",
       "0     zxe870819         1       9           0.333             0.0       0.667\n",
       "1  xw46454nr23l         1      12           0.417             0.0       0.583\n",
       "2     soporte13         1       9           0.778             0.0       0.222"
      ]
     },
     "execution_count": 48,
     "metadata": {},
     "output_type": "execute_result"
    }
   ],
   "source": [
    "data.head(3)"
   ]
  },
  {
   "cell_type": "markdown",
   "id": "7bbcc10d",
   "metadata": {},
   "source": [
    "### Frequency of Special-case Characters"
   ]
  },
  {
   "cell_type": "code",
   "execution_count": 49,
   "id": "08352d5d",
   "metadata": {},
   "outputs": [],
   "source": [
    "def freq_special_case(row):\n",
    "    special_chars = []\n",
    "    for char in row:\n",
    "        if not char.isalpha() and not char.isdigit():\n",
    "            special_chars.append(char)\n",
    "    return len(special_chars)"
   ]
  },
  {
   "cell_type": "code",
   "execution_count": 50,
   "id": "1467f124",
   "metadata": {},
   "outputs": [],
   "source": [
    "data[\"special_char_freq\"] = np.round(data[\"password\"].apply(freq_special_case) , 3)"
   ]
  },
  {
   "cell_type": "code",
   "execution_count": 51,
   "id": "039c24d7",
   "metadata": {},
   "outputs": [
    {
     "data": {
      "text/html": [
       "<div>\n",
       "<style scoped>\n",
       "    .dataframe tbody tr th:only-of-type {\n",
       "        vertical-align: middle;\n",
       "    }\n",
       "\n",
       "    .dataframe tbody tr th {\n",
       "        vertical-align: top;\n",
       "    }\n",
       "\n",
       "    .dataframe thead th {\n",
       "        text-align: right;\n",
       "    }\n",
       "</style>\n",
       "<table border=\"1\" class=\"dataframe\">\n",
       "  <thead>\n",
       "    <tr style=\"text-align: right;\">\n",
       "      <th></th>\n",
       "      <th>password</th>\n",
       "      <th>strength</th>\n",
       "      <th>length</th>\n",
       "      <th>lowercase_freq</th>\n",
       "      <th>uppercase_freq</th>\n",
       "      <th>digit_freq</th>\n",
       "      <th>special_char_freq</th>\n",
       "    </tr>\n",
       "  </thead>\n",
       "  <tbody>\n",
       "    <tr>\n",
       "      <th>0</th>\n",
       "      <td>zxe870819</td>\n",
       "      <td>1</td>\n",
       "      <td>9</td>\n",
       "      <td>0.333</td>\n",
       "      <td>0.0</td>\n",
       "      <td>0.667</td>\n",
       "      <td>0</td>\n",
       "    </tr>\n",
       "    <tr>\n",
       "      <th>1</th>\n",
       "      <td>xw46454nr23l</td>\n",
       "      <td>1</td>\n",
       "      <td>12</td>\n",
       "      <td>0.417</td>\n",
       "      <td>0.0</td>\n",
       "      <td>0.583</td>\n",
       "      <td>0</td>\n",
       "    </tr>\n",
       "    <tr>\n",
       "      <th>2</th>\n",
       "      <td>soporte13</td>\n",
       "      <td>1</td>\n",
       "      <td>9</td>\n",
       "      <td>0.778</td>\n",
       "      <td>0.0</td>\n",
       "      <td>0.222</td>\n",
       "      <td>0</td>\n",
       "    </tr>\n",
       "    <tr>\n",
       "      <th>3</th>\n",
       "      <td>accounts6000webhost.com</td>\n",
       "      <td>2</td>\n",
       "      <td>23</td>\n",
       "      <td>0.783</td>\n",
       "      <td>0.0</td>\n",
       "      <td>0.174</td>\n",
       "      <td>1</td>\n",
       "    </tr>\n",
       "    <tr>\n",
       "      <th>4</th>\n",
       "      <td>c443balg</td>\n",
       "      <td>1</td>\n",
       "      <td>8</td>\n",
       "      <td>0.625</td>\n",
       "      <td>0.0</td>\n",
       "      <td>0.375</td>\n",
       "      <td>0</td>\n",
       "    </tr>\n",
       "  </tbody>\n",
       "</table>\n",
       "</div>"
      ],
      "text/plain": [
       "                  password  strength  length  lowercase_freq  uppercase_freq   \n",
       "0                zxe870819         1       9           0.333             0.0  \\\n",
       "1             xw46454nr23l         1      12           0.417             0.0   \n",
       "2                soporte13         1       9           0.778             0.0   \n",
       "3  accounts6000webhost.com         2      23           0.783             0.0   \n",
       "4                 c443balg         1       8           0.625             0.0   \n",
       "\n",
       "   digit_freq  special_char_freq  \n",
       "0       0.667                  0  \n",
       "1       0.583                  0  \n",
       "2       0.222                  0  \n",
       "3       0.174                  1  \n",
       "4       0.375                  0  "
      ]
     },
     "execution_count": 51,
     "metadata": {},
     "output_type": "execute_result"
    }
   ],
   "source": [
    "data.head(5)"
   ]
  },
  {
   "cell_type": "code",
   "execution_count": 52,
   "id": "b1a72b72",
   "metadata": {},
   "outputs": [
    {
     "data": {
      "text/plain": [
       "0        0.000000\n",
       "1        0.000000\n",
       "2        0.000000\n",
       "3        0.043478\n",
       "4        0.000000\n",
       "           ...   \n",
       "99995    0.000000\n",
       "99996    0.000000\n",
       "99997    0.000000\n",
       "99998    0.000000\n",
       "99999    0.000000\n",
       "Length: 100000, dtype: float64"
      ]
     },
     "execution_count": 52,
     "metadata": {},
     "output_type": "execute_result"
    }
   ],
   "source": [
    "data[\"special_char_freq\"]/data[\"length\"]"
   ]
  },
  {
   "cell_type": "code",
   "execution_count": 53,
   "id": "ed65934d",
   "metadata": {},
   "outputs": [],
   "source": [
    "data[\"special_char_freq\"] = data[\"special_char_freq\"]/data[\"length\"]"
   ]
  },
  {
   "cell_type": "code",
   "execution_count": 54,
   "id": "f1277ea6",
   "metadata": {},
   "outputs": [
    {
     "data": {
      "text/html": [
       "<div>\n",
       "<style scoped>\n",
       "    .dataframe tbody tr th:only-of-type {\n",
       "        vertical-align: middle;\n",
       "    }\n",
       "\n",
       "    .dataframe tbody tr th {\n",
       "        vertical-align: top;\n",
       "    }\n",
       "\n",
       "    .dataframe thead th {\n",
       "        text-align: right;\n",
       "    }\n",
       "</style>\n",
       "<table border=\"1\" class=\"dataframe\">\n",
       "  <thead>\n",
       "    <tr style=\"text-align: right;\">\n",
       "      <th></th>\n",
       "      <th>password</th>\n",
       "      <th>strength</th>\n",
       "      <th>length</th>\n",
       "      <th>lowercase_freq</th>\n",
       "      <th>uppercase_freq</th>\n",
       "      <th>digit_freq</th>\n",
       "      <th>special_char_freq</th>\n",
       "    </tr>\n",
       "  </thead>\n",
       "  <tbody>\n",
       "    <tr>\n",
       "      <th>0</th>\n",
       "      <td>zxe870819</td>\n",
       "      <td>1</td>\n",
       "      <td>9</td>\n",
       "      <td>0.333</td>\n",
       "      <td>0.0</td>\n",
       "      <td>0.667</td>\n",
       "      <td>0.000000</td>\n",
       "    </tr>\n",
       "    <tr>\n",
       "      <th>1</th>\n",
       "      <td>xw46454nr23l</td>\n",
       "      <td>1</td>\n",
       "      <td>12</td>\n",
       "      <td>0.417</td>\n",
       "      <td>0.0</td>\n",
       "      <td>0.583</td>\n",
       "      <td>0.000000</td>\n",
       "    </tr>\n",
       "    <tr>\n",
       "      <th>2</th>\n",
       "      <td>soporte13</td>\n",
       "      <td>1</td>\n",
       "      <td>9</td>\n",
       "      <td>0.778</td>\n",
       "      <td>0.0</td>\n",
       "      <td>0.222</td>\n",
       "      <td>0.000000</td>\n",
       "    </tr>\n",
       "    <tr>\n",
       "      <th>3</th>\n",
       "      <td>accounts6000webhost.com</td>\n",
       "      <td>2</td>\n",
       "      <td>23</td>\n",
       "      <td>0.783</td>\n",
       "      <td>0.0</td>\n",
       "      <td>0.174</td>\n",
       "      <td>0.043478</td>\n",
       "    </tr>\n",
       "    <tr>\n",
       "      <th>4</th>\n",
       "      <td>c443balg</td>\n",
       "      <td>1</td>\n",
       "      <td>8</td>\n",
       "      <td>0.625</td>\n",
       "      <td>0.0</td>\n",
       "      <td>0.375</td>\n",
       "      <td>0.000000</td>\n",
       "    </tr>\n",
       "  </tbody>\n",
       "</table>\n",
       "</div>"
      ],
      "text/plain": [
       "                  password  strength  length  lowercase_freq  uppercase_freq   \n",
       "0                zxe870819         1       9           0.333             0.0  \\\n",
       "1             xw46454nr23l         1      12           0.417             0.0   \n",
       "2                soporte13         1       9           0.778             0.0   \n",
       "3  accounts6000webhost.com         2      23           0.783             0.0   \n",
       "4                 c443balg         1       8           0.625             0.0   \n",
       "\n",
       "   digit_freq  special_char_freq  \n",
       "0       0.667           0.000000  \n",
       "1       0.583           0.000000  \n",
       "2       0.222           0.000000  \n",
       "3       0.174           0.043478  \n",
       "4       0.375           0.000000  "
      ]
     },
     "execution_count": 54,
     "metadata": {},
     "output_type": "execute_result"
    }
   ],
   "source": [
    "data.head(5)"
   ]
  },
  {
   "cell_type": "markdown",
   "id": "6b09a6eb",
   "metadata": {},
   "source": [
    "# 5. Performing Descriptive Statistics"
   ]
  },
  {
   "cell_type": "code",
   "execution_count": 55,
   "id": "441bb31c",
   "metadata": {},
   "outputs": [
    {
     "data": {
      "text/plain": [
       "Index(['password', 'strength', 'length', 'lowercase_freq', 'uppercase_freq',\n",
       "       'digit_freq', 'special_char_freq'],\n",
       "      dtype='object')"
      ]
     },
     "execution_count": 55,
     "metadata": {},
     "output_type": "execute_result"
    }
   ],
   "source": [
    "data.columns"
   ]
  },
  {
   "cell_type": "code",
   "execution_count": 56,
   "id": "ab13b8b5",
   "metadata": {},
   "outputs": [
    {
     "data": {
      "text/html": [
       "<div>\n",
       "<style scoped>\n",
       "    .dataframe tbody tr th:only-of-type {\n",
       "        vertical-align: middle;\n",
       "    }\n",
       "\n",
       "    .dataframe tbody tr th {\n",
       "        vertical-align: top;\n",
       "    }\n",
       "\n",
       "    .dataframe thead th {\n",
       "        text-align: right;\n",
       "    }\n",
       "</style>\n",
       "<table border=\"1\" class=\"dataframe\">\n",
       "  <thead>\n",
       "    <tr style=\"text-align: right;\">\n",
       "      <th></th>\n",
       "      <th>length</th>\n",
       "      <th>strength</th>\n",
       "    </tr>\n",
       "  </thead>\n",
       "  <tbody>\n",
       "    <tr>\n",
       "      <th>0</th>\n",
       "      <td>9</td>\n",
       "      <td>1</td>\n",
       "    </tr>\n",
       "    <tr>\n",
       "      <th>1</th>\n",
       "      <td>12</td>\n",
       "      <td>1</td>\n",
       "    </tr>\n",
       "    <tr>\n",
       "      <th>2</th>\n",
       "      <td>9</td>\n",
       "      <td>1</td>\n",
       "    </tr>\n",
       "    <tr>\n",
       "      <th>3</th>\n",
       "      <td>23</td>\n",
       "      <td>2</td>\n",
       "    </tr>\n",
       "    <tr>\n",
       "      <th>4</th>\n",
       "      <td>8</td>\n",
       "      <td>1</td>\n",
       "    </tr>\n",
       "    <tr>\n",
       "      <th>...</th>\n",
       "      <td>...</td>\n",
       "      <td>...</td>\n",
       "    </tr>\n",
       "    <tr>\n",
       "      <th>99995</th>\n",
       "      <td>10</td>\n",
       "      <td>1</td>\n",
       "    </tr>\n",
       "    <tr>\n",
       "      <th>99996</th>\n",
       "      <td>10</td>\n",
       "      <td>1</td>\n",
       "    </tr>\n",
       "    <tr>\n",
       "      <th>99997</th>\n",
       "      <td>9</td>\n",
       "      <td>1</td>\n",
       "    </tr>\n",
       "    <tr>\n",
       "      <th>99998</th>\n",
       "      <td>9</td>\n",
       "      <td>1</td>\n",
       "    </tr>\n",
       "    <tr>\n",
       "      <th>99999</th>\n",
       "      <td>11</td>\n",
       "      <td>1</td>\n",
       "    </tr>\n",
       "  </tbody>\n",
       "</table>\n",
       "<p>100000 rows × 2 columns</p>\n",
       "</div>"
      ],
      "text/plain": [
       "       length  strength\n",
       "0           9         1\n",
       "1          12         1\n",
       "2           9         1\n",
       "3          23         2\n",
       "4           8         1\n",
       "...       ...       ...\n",
       "99995      10         1\n",
       "99996      10         1\n",
       "99997       9         1\n",
       "99998       9         1\n",
       "99999      11         1\n",
       "\n",
       "[100000 rows x 2 columns]"
      ]
     },
     "execution_count": 56,
     "metadata": {},
     "output_type": "execute_result"
    }
   ],
   "source": [
    "data[['length' , 'strength']]"
   ]
  },
  {
   "cell_type": "code",
   "execution_count": 57,
   "id": "8087d247",
   "metadata": {},
   "outputs": [
    {
     "data": {
      "text/html": [
       "<div>\n",
       "<style scoped>\n",
       "    .dataframe tbody tr th:only-of-type {\n",
       "        vertical-align: middle;\n",
       "    }\n",
       "\n",
       "    .dataframe tbody tr th {\n",
       "        vertical-align: top;\n",
       "    }\n",
       "\n",
       "    .dataframe thead tr th {\n",
       "        text-align: left;\n",
       "    }\n",
       "\n",
       "    .dataframe thead tr:last-of-type th {\n",
       "        text-align: right;\n",
       "    }\n",
       "</style>\n",
       "<table border=\"1\" class=\"dataframe\">\n",
       "  <thead>\n",
       "    <tr>\n",
       "      <th></th>\n",
       "      <th colspan=\"4\" halign=\"left\">length</th>\n",
       "    </tr>\n",
       "    <tr>\n",
       "      <th></th>\n",
       "      <th>min</th>\n",
       "      <th>max</th>\n",
       "      <th>mean</th>\n",
       "      <th>median</th>\n",
       "    </tr>\n",
       "    <tr>\n",
       "      <th>strength</th>\n",
       "      <th></th>\n",
       "      <th></th>\n",
       "      <th></th>\n",
       "      <th></th>\n",
       "    </tr>\n",
       "  </thead>\n",
       "  <tbody>\n",
       "    <tr>\n",
       "      <th>0</th>\n",
       "      <td>1</td>\n",
       "      <td>7</td>\n",
       "      <td>6.550947</td>\n",
       "      <td>7.0</td>\n",
       "    </tr>\n",
       "    <tr>\n",
       "      <th>1</th>\n",
       "      <td>8</td>\n",
       "      <td>13</td>\n",
       "      <td>9.611074</td>\n",
       "      <td>9.0</td>\n",
       "    </tr>\n",
       "    <tr>\n",
       "      <th>2</th>\n",
       "      <td>14</td>\n",
       "      <td>220</td>\n",
       "      <td>15.953421</td>\n",
       "      <td>16.0</td>\n",
       "    </tr>\n",
       "  </tbody>\n",
       "</table>\n",
       "</div>"
      ],
      "text/plain": [
       "         length                       \n",
       "            min  max       mean median\n",
       "strength                              \n",
       "0             1    7   6.550947    7.0\n",
       "1             8   13   9.611074    9.0\n",
       "2            14  220  15.953421   16.0"
      ]
     },
     "execution_count": 57,
     "metadata": {},
     "output_type": "execute_result"
    }
   ],
   "source": [
    "data[['length' , 'strength']].groupby(['strength']).agg([\"min\" , \"max\", \"mean\" , \"median\"])"
   ]
  },
  {
   "cell_type": "code",
   "execution_count": 58,
   "id": "7525cb05",
   "metadata": {},
   "outputs": [
    {
     "name": "stdout",
     "output_type": "stream",
     "text": [
      "length\n",
      "         length                       \n",
      "            min  max       mean median\n",
      "strength                              \n",
      "0             1    7   6.550947    7.0\n",
      "1             8   13   9.611074    9.0\n",
      "2            14  220  15.953421   16.0\n",
      "\n",
      "\n",
      "lowercase_freq\n",
      "         lowercase_freq                        \n",
      "                    min    max      mean median\n",
      "strength                                       \n",
      "0                   0.0  1.000  0.708050  0.714\n",
      "1                   0.0  0.923  0.630067  0.667\n",
      "2                   0.0  0.917  0.424679  0.400\n",
      "\n",
      "\n",
      "uppercase_freq\n",
      "         uppercase_freq                        \n",
      "                    min    max      mean median\n",
      "strength                                       \n",
      "0                   0.0  1.000  0.012872  0.000\n",
      "1                   0.0  0.923  0.007915  0.000\n",
      "2                   0.0  0.889  0.367633  0.429\n",
      "\n",
      "\n",
      "digit_freq\n",
      "         digit_freq                        \n",
      "                min    max      mean median\n",
      "strength                                   \n",
      "0               0.0  1.000  0.275383  0.286\n",
      "1               0.0  0.923  0.360123  0.333\n",
      "2               0.0  0.895  0.193796  0.188\n",
      "\n",
      "\n",
      "special_char_freq\n",
      "         special_char_freq                           \n",
      "                       min       max      mean median\n",
      "strength                                             \n",
      "0                      0.0  1.000000  0.003693    0.0\n",
      "1                      0.0  0.818182  0.001895    0.0\n",
      "2                      0.0  0.740741  0.013872    0.0\n",
      "\n",
      "\n"
     ]
    }
   ],
   "source": [
    "cols = ['length', 'lowercase_freq', 'uppercase_freq',\n",
    "       'digit_freq', 'special_char_freq']\n",
    "for col in cols:\n",
    "    print(col)\n",
    "    print(data[[col , 'strength']].groupby(['strength']).agg([\"min\" , \"max\", \"mean\" , \"median\"]))\n",
    "    print('\\n')"
   ]
  },
  {
   "cell_type": "code",
   "execution_count": 59,
   "id": "246c4dde",
   "metadata": {},
   "outputs": [
    {
     "data": {
      "text/plain": [
       "Index(['password', 'strength', 'length', 'lowercase_freq', 'uppercase_freq',\n",
       "       'digit_freq', 'special_char_freq'],\n",
       "      dtype='object')"
      ]
     },
     "execution_count": 59,
     "metadata": {},
     "output_type": "execute_result"
    }
   ],
   "source": [
    "data.columns"
   ]
  },
  {
   "cell_type": "code",
   "execution_count": 60,
   "id": "ea2b6531",
   "metadata": {},
   "outputs": [
    {
     "data": {
      "text/plain": [
       "<Axes: xlabel='strength', ylabel='special_char_freq'>"
      ]
     },
     "execution_count": 60,
     "metadata": {},
     "output_type": "execute_result"
    },
    {
     "data": {
      "image/png": "[encoded data removed]",
      "text/plain": [
       "<Figure size 640x480 with 6 Axes>"
      ]
     },
     "metadata": {},
     "output_type": "display_data"
    }
   ],
   "source": [
    "fig , ((ax1 , ax2) , (ax3 , ax4) , (ax5 , ax6)) = plt.subplots(3 , 2)\n",
    "\n",
    "sns.boxplot(x=\"strength\" , y='length' , hue=\"strength\" , ax=ax1 , data=data)\n",
    "sns.boxplot(x=\"strength\" , y='lowercase_freq' , hue=\"strength\" , ax=ax2 , data=data)\n",
    "sns.boxplot(x=\"strength\" , y='uppercase_freq' , hue=\"strength\" , ax=ax3 , data=data)\n",
    "sns.boxplot(x=\"strength\" , y='digit_freq' , hue=\"strength\" , ax=ax4 , data=data)\n",
    "sns.boxplot(x=\"strength\" , y='special_char_freq' , hue=\"strength\" , ax=ax5 , data=data)"
   ]
  },
  {
   "cell_type": "code",
   "execution_count": 61,
   "id": "273380f2",
   "metadata": {},
   "outputs": [
    {
     "data": {
      "image/png": "[encoded data removed]",
      "text/plain": [
       "<Figure size 1500x700 with 6 Axes>"
      ]
     },
     "metadata": {},
     "output_type": "display_data"
    }
   ],
   "source": [
    "fig , ((ax1 , ax2) , (ax3 , ax4) , (ax5 , ax6)) = plt.subplots(3 , 2 , figsize=(15,7))\n",
    "\n",
    "sns.boxplot(x=\"strength\" , y='length' , hue=\"strength\" , ax=ax1 , data=data)\n",
    "sns.boxplot(x=\"strength\" , y='lowercase_freq' , hue=\"strength\" , ax=ax2 , data=data)\n",
    "sns.boxplot(x=\"strength\" , y='uppercase_freq' , hue=\"strength\" , ax=ax3 , data=data)\n",
    "sns.boxplot(x=\"strength\" , y='digit_freq' , hue=\"strength\" , ax=ax4 , data=data)\n",
    "sns.boxplot(x=\"strength\" , y='special_char_freq' , hue=\"strength\" , ax=ax5 , data=data)\n",
    "\n",
    "plt.subplots_adjust(hspace=0.6)"
   ]
  },
  {
   "cell_type": "markdown",
   "id": "d565a62f",
   "metadata": {},
   "source": [
    "# 6.. Feature Importance  ( How to figure out imp. feature )"
   ]
  },
  {
   "cell_type": "code",
   "execution_count": 62,
   "id": "27949e26",
   "metadata": {},
   "outputs": [
    {
     "data": {
      "text/plain": [
       "Index(['password', 'strength', 'length', 'lowercase_freq', 'uppercase_freq',\n",
       "       'digit_freq', 'special_char_freq'],\n",
       "      dtype='object')"
      ]
     },
     "execution_count": 62,
     "metadata": {},
     "output_type": "execute_result"
    }
   ],
   "source": [
    "data.columns"
   ]
  },
  {
   "cell_type": "code",
   "execution_count": 63,
   "id": "e66a731a",
   "metadata": {},
   "outputs": [],
   "source": [
    "  def get_dist(data , feature):\n",
    "        \n",
    "        plt.figure(figsize=(10,8))\n",
    "        plt.subplot(1,2,1)\n",
    "        \n",
    "        sns.violinplot(x='strength' , y=feature , data=data)\n",
    "        \n",
    "        plt.subplot(1,2,2)\n",
    "        \n",
    "        sns.distplot(data[data['strength']==0][feature] , color=\"red\" , label=\"0\" , hist=False)\n",
    "        sns.distplot(data[data['strength']==1][feature] , color=\"blue\" , label=\"1\" , hist=False)\n",
    "        sns.distplot(data[data['strength']==2][feature] , color=\"orange\" , label=\"2\" , hist=False)\n",
    "        plt.legend()\n",
    "        plt.show()"
   ]
  },
  {
   "cell_type": "code",
   "execution_count": 64,
   "id": "9c8cb68b",
   "metadata": {},
   "outputs": [],
   "source": [
    "import warnings\n",
    "from warnings import filterwarnings\n",
    "filterwarnings(\"ignore\")"
   ]
  },
  {
   "cell_type": "code",
   "execution_count": 65,
   "id": "29b19078",
   "metadata": {},
   "outputs": [
    {
     "data": {
      "image/png": "[encoded data removed]",
      "text/plain": [
       "<Figure size 1000x800 with 2 Axes>"
      ]
     },
     "metadata": {},
     "output_type": "display_data"
    }
   ],
   "source": [
    "get_dist(data , \"length\" )"
   ]
  },
  {
   "cell_type": "code",
   "execution_count": 66,
   "id": "320a87de",
   "metadata": {},
   "outputs": [
    {
     "data": {
      "text/plain": [
       "Index(['password', 'strength', 'length', 'lowercase_freq', 'uppercase_freq',\n",
       "       'digit_freq', 'special_char_freq'],\n",
       "      dtype='object')"
      ]
     },
     "execution_count": 66,
     "metadata": {},
     "output_type": "execute_result"
    }
   ],
   "source": [
    "data.columns"
   ]
  },
  {
   "cell_type": "code",
   "execution_count": 67,
   "id": "ede93934",
   "metadata": {},
   "outputs": [
    {
     "data": {
      "image/png": "[encoded data removed]",
      "text/plain": [
       "<Figure size 1000x800 with 2 Axes>"
      ]
     },
     "metadata": {},
     "output_type": "display_data"
    }
   ],
   "source": [
    "get_dist(data , 'lowercase_freq')"
   ]
  },
  {
   "cell_type": "code",
   "execution_count": 68,
   "id": "a27d28b8",
   "metadata": {},
   "outputs": [
    {
     "data": {
      "image/png": "[encoded data removed]",
      "text/plain": [
       "<Figure size 1000x800 with 2 Axes>"
      ]
     },
     "metadata": {},
     "output_type": "display_data"
    }
   ],
   "source": [
    "get_dist(data , 'uppercase_freq')"
   ]
  },
  {
   "cell_type": "code",
   "execution_count": 69,
   "id": "7b708873",
   "metadata": {},
   "outputs": [
    {
     "data": {
      "image/png": "[encoded data removed]",
      "text/plain": [
       "<Figure size 1000x800 with 2 Axes>"
      ]
     },
     "metadata": {},
     "output_type": "display_data"
    }
   ],
   "source": [
    "get_dist(data , 'digit_freq')"
   ]
  },
  {
   "cell_type": "code",
   "execution_count": 70,
   "id": "86fbb663",
   "metadata": {},
   "outputs": [
    {
     "data": {
      "image/png": "[encoded data removed]",
      "text/plain": [
       "<Figure size 1000x800 with 2 Axes>"
      ]
     },
     "metadata": {},
     "output_type": "display_data"
    }
   ],
   "source": [
    "get_dist(data , 'special_char_freq')"
   ]
  },
  {
   "cell_type": "markdown",
   "id": "e6965cab",
   "metadata": {},
   "source": [
    "# 7.. Applying TF_IDF on data"
   ]
  },
  {
   "cell_type": "code",
   "execution_count": 71,
   "id": "0b6b7035",
   "metadata": {},
   "outputs": [
    {
     "data": {
      "text/html": [
       "<div>\n",
       "<style scoped>\n",
       "    .dataframe tbody tr th:only-of-type {\n",
       "        vertical-align: middle;\n",
       "    }\n",
       "\n",
       "    .dataframe tbody tr th {\n",
       "        vertical-align: top;\n",
       "    }\n",
       "\n",
       "    .dataframe thead th {\n",
       "        text-align: right;\n",
       "    }\n",
       "</style>\n",
       "<table border=\"1\" class=\"dataframe\">\n",
       "  <thead>\n",
       "    <tr style=\"text-align: right;\">\n",
       "      <th></th>\n",
       "      <th>password</th>\n",
       "      <th>strength</th>\n",
       "      <th>length</th>\n",
       "      <th>lowercase_freq</th>\n",
       "      <th>uppercase_freq</th>\n",
       "      <th>digit_freq</th>\n",
       "      <th>special_char_freq</th>\n",
       "    </tr>\n",
       "  </thead>\n",
       "  <tbody>\n",
       "    <tr>\n",
       "      <th>0</th>\n",
       "      <td>zxe870819</td>\n",
       "      <td>1</td>\n",
       "      <td>9</td>\n",
       "      <td>0.333</td>\n",
       "      <td>0.0</td>\n",
       "      <td>0.667</td>\n",
       "      <td>0.000000</td>\n",
       "    </tr>\n",
       "    <tr>\n",
       "      <th>1</th>\n",
       "      <td>xw46454nr23l</td>\n",
       "      <td>1</td>\n",
       "      <td>12</td>\n",
       "      <td>0.417</td>\n",
       "      <td>0.0</td>\n",
       "      <td>0.583</td>\n",
       "      <td>0.000000</td>\n",
       "    </tr>\n",
       "    <tr>\n",
       "      <th>2</th>\n",
       "      <td>soporte13</td>\n",
       "      <td>1</td>\n",
       "      <td>9</td>\n",
       "      <td>0.778</td>\n",
       "      <td>0.0</td>\n",
       "      <td>0.222</td>\n",
       "      <td>0.000000</td>\n",
       "    </tr>\n",
       "    <tr>\n",
       "      <th>3</th>\n",
       "      <td>accounts6000webhost.com</td>\n",
       "      <td>2</td>\n",
       "      <td>23</td>\n",
       "      <td>0.783</td>\n",
       "      <td>0.0</td>\n",
       "      <td>0.174</td>\n",
       "      <td>0.043478</td>\n",
       "    </tr>\n",
       "  </tbody>\n",
       "</table>\n",
       "</div>"
      ],
      "text/plain": [
       "                  password  strength  length  lowercase_freq  uppercase_freq   \n",
       "0                zxe870819         1       9           0.333             0.0  \\\n",
       "1             xw46454nr23l         1      12           0.417             0.0   \n",
       "2                soporte13         1       9           0.778             0.0   \n",
       "3  accounts6000webhost.com         2      23           0.783             0.0   \n",
       "\n",
       "   digit_freq  special_char_freq  \n",
       "0       0.667           0.000000  \n",
       "1       0.583           0.000000  \n",
       "2       0.222           0.000000  \n",
       "3       0.174           0.043478  "
      ]
     },
     "execution_count": 71,
     "metadata": {},
     "output_type": "execute_result"
    }
   ],
   "source": [
    "data.head(4)"
   ]
  },
  {
   "cell_type": "code",
   "execution_count": 72,
   "id": "277aab6c",
   "metadata": {},
   "outputs": [
    {
     "data": {
      "text/html": [
       "<div>\n",
       "<style scoped>\n",
       "    .dataframe tbody tr th:only-of-type {\n",
       "        vertical-align: middle;\n",
       "    }\n",
       "\n",
       "    .dataframe tbody tr th {\n",
       "        vertical-align: top;\n",
       "    }\n",
       "\n",
       "    .dataframe thead th {\n",
       "        text-align: right;\n",
       "    }\n",
       "</style>\n",
       "<table border=\"1\" class=\"dataframe\">\n",
       "  <thead>\n",
       "    <tr style=\"text-align: right;\">\n",
       "      <th></th>\n",
       "      <th>password</th>\n",
       "      <th>strength</th>\n",
       "      <th>length</th>\n",
       "      <th>lowercase_freq</th>\n",
       "      <th>uppercase_freq</th>\n",
       "      <th>digit_freq</th>\n",
       "      <th>special_char_freq</th>\n",
       "    </tr>\n",
       "  </thead>\n",
       "  <tbody>\n",
       "    <tr>\n",
       "      <th>0</th>\n",
       "      <td>zxe870819</td>\n",
       "      <td>1</td>\n",
       "      <td>9</td>\n",
       "      <td>0.333</td>\n",
       "      <td>0.0</td>\n",
       "      <td>0.667</td>\n",
       "      <td>0.000000</td>\n",
       "    </tr>\n",
       "    <tr>\n",
       "      <th>1</th>\n",
       "      <td>xw46454nr23l</td>\n",
       "      <td>1</td>\n",
       "      <td>12</td>\n",
       "      <td>0.417</td>\n",
       "      <td>0.0</td>\n",
       "      <td>0.583</td>\n",
       "      <td>0.000000</td>\n",
       "    </tr>\n",
       "    <tr>\n",
       "      <th>2</th>\n",
       "      <td>soporte13</td>\n",
       "      <td>1</td>\n",
       "      <td>9</td>\n",
       "      <td>0.778</td>\n",
       "      <td>0.0</td>\n",
       "      <td>0.222</td>\n",
       "      <td>0.000000</td>\n",
       "    </tr>\n",
       "    <tr>\n",
       "      <th>3</th>\n",
       "      <td>accounts6000webhost.com</td>\n",
       "      <td>2</td>\n",
       "      <td>23</td>\n",
       "      <td>0.783</td>\n",
       "      <td>0.0</td>\n",
       "      <td>0.174</td>\n",
       "      <td>0.043478</td>\n",
       "    </tr>\n",
       "    <tr>\n",
       "      <th>4</th>\n",
       "      <td>c443balg</td>\n",
       "      <td>1</td>\n",
       "      <td>8</td>\n",
       "      <td>0.625</td>\n",
       "      <td>0.0</td>\n",
       "      <td>0.375</td>\n",
       "      <td>0.000000</td>\n",
       "    </tr>\n",
       "    <tr>\n",
       "      <th>...</th>\n",
       "      <td>...</td>\n",
       "      <td>...</td>\n",
       "      <td>...</td>\n",
       "      <td>...</td>\n",
       "      <td>...</td>\n",
       "      <td>...</td>\n",
       "      <td>...</td>\n",
       "    </tr>\n",
       "    <tr>\n",
       "      <th>99995</th>\n",
       "      <td>obejofi215</td>\n",
       "      <td>1</td>\n",
       "      <td>10</td>\n",
       "      <td>0.700</td>\n",
       "      <td>0.0</td>\n",
       "      <td>0.300</td>\n",
       "      <td>0.000000</td>\n",
       "    </tr>\n",
       "    <tr>\n",
       "      <th>99996</th>\n",
       "      <td>fmiopvxb64</td>\n",
       "      <td>1</td>\n",
       "      <td>10</td>\n",
       "      <td>0.800</td>\n",
       "      <td>0.0</td>\n",
       "      <td>0.200</td>\n",
       "      <td>0.000000</td>\n",
       "    </tr>\n",
       "    <tr>\n",
       "      <th>99997</th>\n",
       "      <td>czvrbun38</td>\n",
       "      <td>1</td>\n",
       "      <td>9</td>\n",
       "      <td>0.778</td>\n",
       "      <td>0.0</td>\n",
       "      <td>0.222</td>\n",
       "      <td>0.000000</td>\n",
       "    </tr>\n",
       "    <tr>\n",
       "      <th>99998</th>\n",
       "      <td>mymyxe430</td>\n",
       "      <td>1</td>\n",
       "      <td>9</td>\n",
       "      <td>0.667</td>\n",
       "      <td>0.0</td>\n",
       "      <td>0.333</td>\n",
       "      <td>0.000000</td>\n",
       "    </tr>\n",
       "    <tr>\n",
       "      <th>99999</th>\n",
       "      <td>glqjhkxb467</td>\n",
       "      <td>1</td>\n",
       "      <td>11</td>\n",
       "      <td>0.727</td>\n",
       "      <td>0.0</td>\n",
       "      <td>0.273</td>\n",
       "      <td>0.000000</td>\n",
       "    </tr>\n",
       "  </tbody>\n",
       "</table>\n",
       "<p>100000 rows × 7 columns</p>\n",
       "</div>"
      ],
      "text/plain": [
       "                      password  strength  length  lowercase_freq   \n",
       "0                    zxe870819         1       9           0.333  \\\n",
       "1                 xw46454nr23l         1      12           0.417   \n",
       "2                    soporte13         1       9           0.778   \n",
       "3      accounts6000webhost.com         2      23           0.783   \n",
       "4                     c443balg         1       8           0.625   \n",
       "...                        ...       ...     ...             ...   \n",
       "99995               obejofi215         1      10           0.700   \n",
       "99996               fmiopvxb64         1      10           0.800   \n",
       "99997                czvrbun38         1       9           0.778   \n",
       "99998                mymyxe430         1       9           0.667   \n",
       "99999              glqjhkxb467         1      11           0.727   \n",
       "\n",
       "       uppercase_freq  digit_freq  special_char_freq  \n",
       "0                 0.0       0.667           0.000000  \n",
       "1                 0.0       0.583           0.000000  \n",
       "2                 0.0       0.222           0.000000  \n",
       "3                 0.0       0.174           0.043478  \n",
       "4                 0.0       0.375           0.000000  \n",
       "...               ...         ...                ...  \n",
       "99995             0.0       0.300           0.000000  \n",
       "99996             0.0       0.200           0.000000  \n",
       "99997             0.0       0.222           0.000000  \n",
       "99998             0.0       0.333           0.000000  \n",
       "99999             0.0       0.273           0.000000  \n",
       "\n",
       "[100000 rows x 7 columns]"
      ]
     },
     "execution_count": 72,
     "metadata": {},
     "output_type": "execute_result"
    }
   ],
   "source": [
    "data"
   ]
  },
  {
   "cell_type": "code",
   "execution_count": 73,
   "id": "1bf0d0e8",
   "metadata": {},
   "outputs": [],
   "source": [
    "dataframe = data.sample(frac=1)"
   ]
  },
  {
   "cell_type": "code",
   "execution_count": 74,
   "id": "579f85e8",
   "metadata": {},
   "outputs": [
    {
     "data": {
      "text/html": [
       "<div>\n",
       "<style scoped>\n",
       "    .dataframe tbody tr th:only-of-type {\n",
       "        vertical-align: middle;\n",
       "    }\n",
       "\n",
       "    .dataframe tbody tr th {\n",
       "        vertical-align: top;\n",
       "    }\n",
       "\n",
       "    .dataframe thead th {\n",
       "        text-align: right;\n",
       "    }\n",
       "</style>\n",
       "<table border=\"1\" class=\"dataframe\">\n",
       "  <thead>\n",
       "    <tr style=\"text-align: right;\">\n",
       "      <th></th>\n",
       "      <th>password</th>\n",
       "      <th>strength</th>\n",
       "      <th>length</th>\n",
       "      <th>lowercase_freq</th>\n",
       "      <th>uppercase_freq</th>\n",
       "      <th>digit_freq</th>\n",
       "      <th>special_char_freq</th>\n",
       "    </tr>\n",
       "  </thead>\n",
       "  <tbody>\n",
       "    <tr>\n",
       "      <th>48640</th>\n",
       "      <td>master91</td>\n",
       "      <td>1</td>\n",
       "      <td>8</td>\n",
       "      <td>0.750</td>\n",
       "      <td>0.000</td>\n",
       "      <td>0.250</td>\n",
       "      <td>0.0</td>\n",
       "    </tr>\n",
       "    <tr>\n",
       "      <th>73165</th>\n",
       "      <td>pelmos13</td>\n",
       "      <td>1</td>\n",
       "      <td>8</td>\n",
       "      <td>0.750</td>\n",
       "      <td>0.000</td>\n",
       "      <td>0.250</td>\n",
       "      <td>0.0</td>\n",
       "    </tr>\n",
       "    <tr>\n",
       "      <th>43781</th>\n",
       "      <td>assedu63</td>\n",
       "      <td>1</td>\n",
       "      <td>8</td>\n",
       "      <td>0.750</td>\n",
       "      <td>0.000</td>\n",
       "      <td>0.250</td>\n",
       "      <td>0.0</td>\n",
       "    </tr>\n",
       "    <tr>\n",
       "      <th>2868</th>\n",
       "      <td>EYE031213</td>\n",
       "      <td>1</td>\n",
       "      <td>9</td>\n",
       "      <td>0.000</td>\n",
       "      <td>0.333</td>\n",
       "      <td>0.667</td>\n",
       "      <td>0.0</td>\n",
       "    </tr>\n",
       "    <tr>\n",
       "      <th>46936</th>\n",
       "      <td>NZDmkBTAwMAbI25A</td>\n",
       "      <td>2</td>\n",
       "      <td>16</td>\n",
       "      <td>0.250</td>\n",
       "      <td>0.625</td>\n",
       "      <td>0.125</td>\n",
       "      <td>0.0</td>\n",
       "    </tr>\n",
       "    <tr>\n",
       "      <th>...</th>\n",
       "      <td>...</td>\n",
       "      <td>...</td>\n",
       "      <td>...</td>\n",
       "      <td>...</td>\n",
       "      <td>...</td>\n",
       "      <td>...</td>\n",
       "      <td>...</td>\n",
       "    </tr>\n",
       "    <tr>\n",
       "      <th>88905</th>\n",
       "      <td>y79oui63ry</td>\n",
       "      <td>1</td>\n",
       "      <td>10</td>\n",
       "      <td>0.600</td>\n",
       "      <td>0.000</td>\n",
       "      <td>0.400</td>\n",
       "      <td>0.0</td>\n",
       "    </tr>\n",
       "    <tr>\n",
       "      <th>97307</th>\n",
       "      <td>36217366j</td>\n",
       "      <td>1</td>\n",
       "      <td>9</td>\n",
       "      <td>0.111</td>\n",
       "      <td>0.000</td>\n",
       "      <td>0.889</td>\n",
       "      <td>0.0</td>\n",
       "    </tr>\n",
       "    <tr>\n",
       "      <th>57151</th>\n",
       "      <td>volkswagon1</td>\n",
       "      <td>1</td>\n",
       "      <td>11</td>\n",
       "      <td>0.909</td>\n",
       "      <td>0.000</td>\n",
       "      <td>0.091</td>\n",
       "      <td>0.0</td>\n",
       "    </tr>\n",
       "    <tr>\n",
       "      <th>1438</th>\n",
       "      <td>glenndm45</td>\n",
       "      <td>1</td>\n",
       "      <td>9</td>\n",
       "      <td>0.778</td>\n",
       "      <td>0.000</td>\n",
       "      <td>0.222</td>\n",
       "      <td>0.0</td>\n",
       "    </tr>\n",
       "    <tr>\n",
       "      <th>16766</th>\n",
       "      <td>vKixN2zk3NwirgEd</td>\n",
       "      <td>2</td>\n",
       "      <td>16</td>\n",
       "      <td>0.625</td>\n",
       "      <td>0.250</td>\n",
       "      <td>0.125</td>\n",
       "      <td>0.0</td>\n",
       "    </tr>\n",
       "  </tbody>\n",
       "</table>\n",
       "<p>100000 rows × 7 columns</p>\n",
       "</div>"
      ],
      "text/plain": [
       "               password  strength  length  lowercase_freq  uppercase_freq   \n",
       "48640          master91         1       8           0.750           0.000  \\\n",
       "73165          pelmos13         1       8           0.750           0.000   \n",
       "43781          assedu63         1       8           0.750           0.000   \n",
       "2868          EYE031213         1       9           0.000           0.333   \n",
       "46936  NZDmkBTAwMAbI25A         2      16           0.250           0.625   \n",
       "...                 ...       ...     ...             ...             ...   \n",
       "88905        y79oui63ry         1      10           0.600           0.000   \n",
       "97307         36217366j         1       9           0.111           0.000   \n",
       "57151       volkswagon1         1      11           0.909           0.000   \n",
       "1438          glenndm45         1       9           0.778           0.000   \n",
       "16766  vKixN2zk3NwirgEd         2      16           0.625           0.250   \n",
       "\n",
       "       digit_freq  special_char_freq  \n",
       "48640       0.250                0.0  \n",
       "73165       0.250                0.0  \n",
       "43781       0.250                0.0  \n",
       "2868        0.667                0.0  \n",
       "46936       0.125                0.0  \n",
       "...           ...                ...  \n",
       "88905       0.400                0.0  \n",
       "97307       0.889                0.0  \n",
       "57151       0.091                0.0  \n",
       "1438        0.222                0.0  \n",
       "16766       0.125                0.0  \n",
       "\n",
       "[100000 rows x 7 columns]"
      ]
     },
     "execution_count": 74,
     "metadata": {},
     "output_type": "execute_result"
    }
   ],
   "source": [
    "dataframe"
   ]
  },
  {
   "cell_type": "code",
   "execution_count": 75,
   "id": "773fb962",
   "metadata": {},
   "outputs": [],
   "source": [
    "x = list(dataframe[\"password\"])"
   ]
  },
  {
   "cell_type": "code",
   "execution_count": 76,
   "id": "77914965",
   "metadata": {},
   "outputs": [],
   "source": [
    "from sklearn.feature_extraction.text import TfidfVectorizer"
   ]
  },
  {
   "cell_type": "code",
   "execution_count": 77,
   "id": "7b9785b1",
   "metadata": {},
   "outputs": [],
   "source": [
    "vectorizer = TfidfVectorizer(analyzer=\"char\")"
   ]
  },
  {
   "cell_type": "code",
   "execution_count": 78,
   "id": "24525e8f",
   "metadata": {},
   "outputs": [],
   "source": [
    "X = vectorizer.fit_transform(x)"
   ]
  },
  {
   "cell_type": "code",
   "execution_count": 79,
   "id": "63894589",
   "metadata": {},
   "outputs": [
    {
     "data": {
      "text/plain": [
       "(100000, 99)"
      ]
     },
     "execution_count": 79,
     "metadata": {},
     "output_type": "execute_result"
    }
   ],
   "source": [
    "X.shape"
   ]
  },
  {
   "cell_type": "code",
   "execution_count": 80,
   "id": "ad96392c",
   "metadata": {},
   "outputs": [
    {
     "data": {
      "text/plain": [
       "(100000,)"
      ]
     },
     "execution_count": 80,
     "metadata": {},
     "output_type": "execute_result"
    }
   ],
   "source": [
    "dataframe[\"password\"].shape"
   ]
  },
  {
   "cell_type": "code",
   "execution_count": 81,
   "id": "85bb3d24",
   "metadata": {},
   "outputs": [
    {
     "data": {
      "text/plain": [
       "<100000x99 sparse matrix of type '<class 'numpy.float64'>'\n",
       "\twith 842571 stored elements in Compressed Sparse Row format>"
      ]
     },
     "execution_count": 81,
     "metadata": {},
     "output_type": "execute_result"
    }
   ],
   "source": [
    "X"
   ]
  },
  {
   "cell_type": "code",
   "execution_count": 82,
   "id": "2b6e619c",
   "metadata": {},
   "outputs": [
    {
     "data": {
      "text/plain": [
       "array([[0., 0., 0., ..., 0., 0., 0.],\n",
       "       [0., 0., 0., ..., 0., 0., 0.],\n",
       "       [0., 0., 0., ..., 0., 0., 0.],\n",
       "       ...,\n",
       "       [0., 0., 0., ..., 0., 0., 0.],\n",
       "       [0., 0., 0., ..., 0., 0., 0.],\n",
       "       [0., 0., 0., ..., 0., 0., 0.]])"
      ]
     },
     "execution_count": 82,
     "metadata": {},
     "output_type": "execute_result"
    }
   ],
   "source": [
    "X.toarray()"
   ]
  },
  {
   "cell_type": "code",
   "execution_count": 83,
   "id": "59486c11",
   "metadata": {},
   "outputs": [
    {
     "data": {
      "text/plain": [
       "array([0.        , 0.        , 0.        , 0.        , 0.        ,\n",
       "       0.        , 0.        , 0.        , 0.        , 0.        ,\n",
       "       0.        , 0.        , 0.        , 0.        , 0.        ,\n",
       "       0.        , 0.        , 0.        , 0.        , 0.        ,\n",
       "       0.        , 0.28678758, 0.        , 0.        , 0.        ,\n",
       "       0.        , 0.        , 0.        , 0.        , 0.40097108,\n",
       "       0.        , 0.        , 0.        , 0.        , 0.        ,\n",
       "       0.        , 0.        , 0.        , 0.        , 0.        ,\n",
       "       0.        , 0.        , 0.27618673, 0.        , 0.        ,\n",
       "       0.        , 0.32354062, 0.        , 0.        , 0.        ,\n",
       "       0.        , 0.        , 0.        , 0.        , 0.38168906,\n",
       "       0.        , 0.        , 0.        , 0.        , 0.36789916,\n",
       "       0.37628199, 0.39165414, 0.        , 0.        , 0.        ,\n",
       "       0.        , 0.        , 0.        , 0.        , 0.        ,\n",
       "       0.        , 0.        , 0.        , 0.        , 0.        ,\n",
       "       0.        , 0.        , 0.        , 0.        , 0.        ,\n",
       "       0.        , 0.        , 0.        , 0.        , 0.        ,\n",
       "       0.        , 0.        , 0.        , 0.        , 0.        ,\n",
       "       0.        , 0.        , 0.        , 0.        , 0.        ,\n",
       "       0.        , 0.        , 0.        , 0.        ])"
      ]
     },
     "execution_count": 83,
     "metadata": {},
     "output_type": "execute_result"
    }
   ],
   "source": [
    "X.toarray()[0]"
   ]
  },
  {
   "cell_type": "code",
   "execution_count": 84,
   "id": "f2ba4aa1",
   "metadata": {},
   "outputs": [
    {
     "data": {
      "text/plain": [
       "48640            master91\n",
       "73165            pelmos13\n",
       "43781            assedu63\n",
       "2868            EYE031213\n",
       "46936    NZDmkBTAwMAbI25A\n",
       "               ...       \n",
       "88905          y79oui63ry\n",
       "97307           36217366j\n",
       "57151         volkswagon1\n",
       "1438            glenndm45\n",
       "16766    vKixN2zk3NwirgEd\n",
       "Name: password, Length: 100000, dtype: object"
      ]
     },
     "execution_count": 84,
     "metadata": {},
     "output_type": "execute_result"
    }
   ],
   "source": [
    "dataframe[\"password\"]"
   ]
  },
  {
   "cell_type": "code",
   "execution_count": 85,
   "id": "fee55bea",
   "metadata": {},
   "outputs": [
    {
     "data": {
      "text/plain": [
       "99"
      ]
     },
     "execution_count": 85,
     "metadata": {},
     "output_type": "execute_result"
    }
   ],
   "source": [
    "len(vectorizer.get_feature_names_out())"
   ]
  },
  {
   "cell_type": "code",
   "execution_count": 86,
   "id": "ce461beb",
   "metadata": {},
   "outputs": [
    {
     "data": {
      "text/plain": [
       "array(['\\x04', '\\x06', '\\x08', '\\x0e', '\\x10', '\\x11', '\\x17', ' ', '!',\n",
       "       '#', '$', '%', '&', '(', ')', '*', '+', '-', '.', '/', '0', '1',\n",
       "       '2', '3', '4', '5', '6', '7', '8', '9', ';', '<', '=', '>', '?',\n",
       "       '@', '[', '\\\\', ']', '^', '_', '`', 'a', 'b', 'c', 'd', 'e', 'f',\n",
       "       'g', 'h', 'i', 'j', 'k', 'l', 'm', 'n', 'o', 'p', 'q', 'r', 's',\n",
       "       't', 'u', 'v', 'w', 'x', 'y', 'z', '{', '|', '}', '~', '¡', '¨',\n",
       "       '°', '±', '³', '´', 'µ', '·', 'ß', 'à', 'á', 'ä', 'æ', 'ç', 'é',\n",
       "       'ê', 'í', 'ñ', 'ó', 'õ', 'ö', '÷', 'ú', 'ü', 'ý', 'þ', '›'],\n",
       "      dtype=object)"
      ]
     },
     "execution_count": 86,
     "metadata": {},
     "output_type": "execute_result"
    }
   ],
   "source": [
    "vectorizer.get_feature_names_out()"
   ]
  },
  {
   "cell_type": "code",
   "execution_count": 87,
   "id": "c01829a0",
   "metadata": {},
   "outputs": [],
   "source": [
    "df2 = pd.DataFrame(X.toarray() , columns=vectorizer.get_feature_names_out())"
   ]
  },
  {
   "cell_type": "code",
   "execution_count": 88,
   "id": "37485562",
   "metadata": {},
   "outputs": [
    {
     "data": {
      "text/html": [
       "<div>\n",
       "<style scoped>\n",
       "    .dataframe tbody tr th:only-of-type {\n",
       "        vertical-align: middle;\n",
       "    }\n",
       "\n",
       "    .dataframe tbody tr th {\n",
       "        vertical-align: top;\n",
       "    }\n",
       "\n",
       "    .dataframe thead th {\n",
       "        text-align: right;\n",
       "    }\n",
       "</style>\n",
       "<table border=\"1\" class=\"dataframe\">\n",
       "  <thead>\n",
       "    <tr style=\"text-align: right;\">\n",
       "      <th></th>\n",
       "      <th>\u0004</th>\n",
       "      <th>\u0006</th>\n",
       "      <th>\b</th>\n",
       "      <th>\u000e</th>\n",
       "      <th>\u0010</th>\n",
       "      <th>\u0011</th>\n",
       "      <th>\u0017</th>\n",
       "      <th></th>\n",
       "      <th>!</th>\n",
       "      <th>#</th>\n",
       "      <th>...</th>\n",
       "      <th>ñ</th>\n",
       "      <th>ó</th>\n",
       "      <th>õ</th>\n",
       "      <th>ö</th>\n",
       "      <th>÷</th>\n",
       "      <th>ú</th>\n",
       "      <th>ü</th>\n",
       "      <th>ý</th>\n",
       "      <th>þ</th>\n",
       "      <th>›</th>\n",
       "    </tr>\n",
       "  </thead>\n",
       "  <tbody>\n",
       "    <tr>\n",
       "      <th>0</th>\n",
       "      <td>0.0</td>\n",
       "      <td>0.0</td>\n",
       "      <td>0.0</td>\n",
       "      <td>0.0</td>\n",
       "      <td>0.0</td>\n",
       "      <td>0.0</td>\n",
       "      <td>0.0</td>\n",
       "      <td>0.0</td>\n",
       "      <td>0.0</td>\n",
       "      <td>0.0</td>\n",
       "      <td>...</td>\n",
       "      <td>0.0</td>\n",
       "      <td>0.0</td>\n",
       "      <td>0.0</td>\n",
       "      <td>0.0</td>\n",
       "      <td>0.0</td>\n",
       "      <td>0.0</td>\n",
       "      <td>0.0</td>\n",
       "      <td>0.0</td>\n",
       "      <td>0.0</td>\n",
       "      <td>0.0</td>\n",
       "    </tr>\n",
       "    <tr>\n",
       "      <th>1</th>\n",
       "      <td>0.0</td>\n",
       "      <td>0.0</td>\n",
       "      <td>0.0</td>\n",
       "      <td>0.0</td>\n",
       "      <td>0.0</td>\n",
       "      <td>0.0</td>\n",
       "      <td>0.0</td>\n",
       "      <td>0.0</td>\n",
       "      <td>0.0</td>\n",
       "      <td>0.0</td>\n",
       "      <td>...</td>\n",
       "      <td>0.0</td>\n",
       "      <td>0.0</td>\n",
       "      <td>0.0</td>\n",
       "      <td>0.0</td>\n",
       "      <td>0.0</td>\n",
       "      <td>0.0</td>\n",
       "      <td>0.0</td>\n",
       "      <td>0.0</td>\n",
       "      <td>0.0</td>\n",
       "      <td>0.0</td>\n",
       "    </tr>\n",
       "    <tr>\n",
       "      <th>2</th>\n",
       "      <td>0.0</td>\n",
       "      <td>0.0</td>\n",
       "      <td>0.0</td>\n",
       "      <td>0.0</td>\n",
       "      <td>0.0</td>\n",
       "      <td>0.0</td>\n",
       "      <td>0.0</td>\n",
       "      <td>0.0</td>\n",
       "      <td>0.0</td>\n",
       "      <td>0.0</td>\n",
       "      <td>...</td>\n",
       "      <td>0.0</td>\n",
       "      <td>0.0</td>\n",
       "      <td>0.0</td>\n",
       "      <td>0.0</td>\n",
       "      <td>0.0</td>\n",
       "      <td>0.0</td>\n",
       "      <td>0.0</td>\n",
       "      <td>0.0</td>\n",
       "      <td>0.0</td>\n",
       "      <td>0.0</td>\n",
       "    </tr>\n",
       "    <tr>\n",
       "      <th>3</th>\n",
       "      <td>0.0</td>\n",
       "      <td>0.0</td>\n",
       "      <td>0.0</td>\n",
       "      <td>0.0</td>\n",
       "      <td>0.0</td>\n",
       "      <td>0.0</td>\n",
       "      <td>0.0</td>\n",
       "      <td>0.0</td>\n",
       "      <td>0.0</td>\n",
       "      <td>0.0</td>\n",
       "      <td>...</td>\n",
       "      <td>0.0</td>\n",
       "      <td>0.0</td>\n",
       "      <td>0.0</td>\n",
       "      <td>0.0</td>\n",
       "      <td>0.0</td>\n",
       "      <td>0.0</td>\n",
       "      <td>0.0</td>\n",
       "      <td>0.0</td>\n",
       "      <td>0.0</td>\n",
       "      <td>0.0</td>\n",
       "    </tr>\n",
       "    <tr>\n",
       "      <th>4</th>\n",
       "      <td>0.0</td>\n",
       "      <td>0.0</td>\n",
       "      <td>0.0</td>\n",
       "      <td>0.0</td>\n",
       "      <td>0.0</td>\n",
       "      <td>0.0</td>\n",
       "      <td>0.0</td>\n",
       "      <td>0.0</td>\n",
       "      <td>0.0</td>\n",
       "      <td>0.0</td>\n",
       "      <td>...</td>\n",
       "      <td>0.0</td>\n",
       "      <td>0.0</td>\n",
       "      <td>0.0</td>\n",
       "      <td>0.0</td>\n",
       "      <td>0.0</td>\n",
       "      <td>0.0</td>\n",
       "      <td>0.0</td>\n",
       "      <td>0.0</td>\n",
       "      <td>0.0</td>\n",
       "      <td>0.0</td>\n",
       "    </tr>\n",
       "    <tr>\n",
       "      <th>...</th>\n",
       "      <td>...</td>\n",
       "      <td>...</td>\n",
       "      <td>...</td>\n",
       "      <td>...</td>\n",
       "      <td>...</td>\n",
       "      <td>...</td>\n",
       "      <td>...</td>\n",
       "      <td>...</td>\n",
       "      <td>...</td>\n",
       "      <td>...</td>\n",
       "      <td>...</td>\n",
       "      <td>...</td>\n",
       "      <td>...</td>\n",
       "      <td>...</td>\n",
       "      <td>...</td>\n",
       "      <td>...</td>\n",
       "      <td>...</td>\n",
       "      <td>...</td>\n",
       "      <td>...</td>\n",
       "      <td>...</td>\n",
       "      <td>...</td>\n",
       "    </tr>\n",
       "    <tr>\n",
       "      <th>99995</th>\n",
       "      <td>0.0</td>\n",
       "      <td>0.0</td>\n",
       "      <td>0.0</td>\n",
       "      <td>0.0</td>\n",
       "      <td>0.0</td>\n",
       "      <td>0.0</td>\n",
       "      <td>0.0</td>\n",
       "      <td>0.0</td>\n",
       "      <td>0.0</td>\n",
       "      <td>0.0</td>\n",
       "      <td>...</td>\n",
       "      <td>0.0</td>\n",
       "      <td>0.0</td>\n",
       "      <td>0.0</td>\n",
       "      <td>0.0</td>\n",
       "      <td>0.0</td>\n",
       "      <td>0.0</td>\n",
       "      <td>0.0</td>\n",
       "      <td>0.0</td>\n",
       "      <td>0.0</td>\n",
       "      <td>0.0</td>\n",
       "    </tr>\n",
       "    <tr>\n",
       "      <th>99996</th>\n",
       "      <td>0.0</td>\n",
       "      <td>0.0</td>\n",
       "      <td>0.0</td>\n",
       "      <td>0.0</td>\n",
       "      <td>0.0</td>\n",
       "      <td>0.0</td>\n",
       "      <td>0.0</td>\n",
       "      <td>0.0</td>\n",
       "      <td>0.0</td>\n",
       "      <td>0.0</td>\n",
       "      <td>...</td>\n",
       "      <td>0.0</td>\n",
       "      <td>0.0</td>\n",
       "      <td>0.0</td>\n",
       "      <td>0.0</td>\n",
       "      <td>0.0</td>\n",
       "      <td>0.0</td>\n",
       "      <td>0.0</td>\n",
       "      <td>0.0</td>\n",
       "      <td>0.0</td>\n",
       "      <td>0.0</td>\n",
       "    </tr>\n",
       "    <tr>\n",
       "      <th>99997</th>\n",
       "      <td>0.0</td>\n",
       "      <td>0.0</td>\n",
       "      <td>0.0</td>\n",
       "      <td>0.0</td>\n",
       "      <td>0.0</td>\n",
       "      <td>0.0</td>\n",
       "      <td>0.0</td>\n",
       "      <td>0.0</td>\n",
       "      <td>0.0</td>\n",
       "      <td>0.0</td>\n",
       "      <td>...</td>\n",
       "      <td>0.0</td>\n",
       "      <td>0.0</td>\n",
       "      <td>0.0</td>\n",
       "      <td>0.0</td>\n",
       "      <td>0.0</td>\n",
       "      <td>0.0</td>\n",
       "      <td>0.0</td>\n",
       "      <td>0.0</td>\n",
       "      <td>0.0</td>\n",
       "      <td>0.0</td>\n",
       "    </tr>\n",
       "    <tr>\n",
       "      <th>99998</th>\n",
       "      <td>0.0</td>\n",
       "      <td>0.0</td>\n",
       "      <td>0.0</td>\n",
       "      <td>0.0</td>\n",
       "      <td>0.0</td>\n",
       "      <td>0.0</td>\n",
       "      <td>0.0</td>\n",
       "      <td>0.0</td>\n",
       "      <td>0.0</td>\n",
       "      <td>0.0</td>\n",
       "      <td>...</td>\n",
       "      <td>0.0</td>\n",
       "      <td>0.0</td>\n",
       "      <td>0.0</td>\n",
       "      <td>0.0</td>\n",
       "      <td>0.0</td>\n",
       "      <td>0.0</td>\n",
       "      <td>0.0</td>\n",
       "      <td>0.0</td>\n",
       "      <td>0.0</td>\n",
       "      <td>0.0</td>\n",
       "    </tr>\n",
       "    <tr>\n",
       "      <th>99999</th>\n",
       "      <td>0.0</td>\n",
       "      <td>0.0</td>\n",
       "      <td>0.0</td>\n",
       "      <td>0.0</td>\n",
       "      <td>0.0</td>\n",
       "      <td>0.0</td>\n",
       "      <td>0.0</td>\n",
       "      <td>0.0</td>\n",
       "      <td>0.0</td>\n",
       "      <td>0.0</td>\n",
       "      <td>...</td>\n",
       "      <td>0.0</td>\n",
       "      <td>0.0</td>\n",
       "      <td>0.0</td>\n",
       "      <td>0.0</td>\n",
       "      <td>0.0</td>\n",
       "      <td>0.0</td>\n",
       "      <td>0.0</td>\n",
       "      <td>0.0</td>\n",
       "      <td>0.0</td>\n",
       "      <td>0.0</td>\n",
       "    </tr>\n",
       "  </tbody>\n",
       "</table>\n",
       "<p>100000 rows × 99 columns</p>\n",
       "</div>"
      ],
      "text/plain": [
       "         \u0004    \u0006    \b    \u000e    \u0010    \u0011    \u0017         !    #  ...    ñ    ó    õ   \n",
       "0      0.0  0.0  0.0  0.0  0.0  0.0  0.0  0.0  0.0  0.0  ...  0.0  0.0  0.0  \\\n",
       "1      0.0  0.0  0.0  0.0  0.0  0.0  0.0  0.0  0.0  0.0  ...  0.0  0.0  0.0   \n",
       "2      0.0  0.0  0.0  0.0  0.0  0.0  0.0  0.0  0.0  0.0  ...  0.0  0.0  0.0   \n",
       "3      0.0  0.0  0.0  0.0  0.0  0.0  0.0  0.0  0.0  0.0  ...  0.0  0.0  0.0   \n",
       "4      0.0  0.0  0.0  0.0  0.0  0.0  0.0  0.0  0.0  0.0  ...  0.0  0.0  0.0   \n",
       "...    ...  ...  ...  ...  ...  ...  ...  ...  ...  ...  ...  ...  ...  ...   \n",
       "99995  0.0  0.0  0.0  0.0  0.0  0.0  0.0  0.0  0.0  0.0  ...  0.0  0.0  0.0   \n",
       "99996  0.0  0.0  0.0  0.0  0.0  0.0  0.0  0.0  0.0  0.0  ...  0.0  0.0  0.0   \n",
       "99997  0.0  0.0  0.0  0.0  0.0  0.0  0.0  0.0  0.0  0.0  ...  0.0  0.0  0.0   \n",
       "99998  0.0  0.0  0.0  0.0  0.0  0.0  0.0  0.0  0.0  0.0  ...  0.0  0.0  0.0   \n",
       "99999  0.0  0.0  0.0  0.0  0.0  0.0  0.0  0.0  0.0  0.0  ...  0.0  0.0  0.0   \n",
       "\n",
       "         ö    ÷    ú    ü    ý    þ    ›  \n",
       "0      0.0  0.0  0.0  0.0  0.0  0.0  0.0  \n",
       "1      0.0  0.0  0.0  0.0  0.0  0.0  0.0  \n",
       "2      0.0  0.0  0.0  0.0  0.0  0.0  0.0  \n",
       "3      0.0  0.0  0.0  0.0  0.0  0.0  0.0  \n",
       "4      0.0  0.0  0.0  0.0  0.0  0.0  0.0  \n",
       "...    ...  ...  ...  ...  ...  ...  ...  \n",
       "99995  0.0  0.0  0.0  0.0  0.0  0.0  0.0  \n",
       "99996  0.0  0.0  0.0  0.0  0.0  0.0  0.0  \n",
       "99997  0.0  0.0  0.0  0.0  0.0  0.0  0.0  \n",
       "99998  0.0  0.0  0.0  0.0  0.0  0.0  0.0  \n",
       "99999  0.0  0.0  0.0  0.0  0.0  0.0  0.0  \n",
       "\n",
       "[100000 rows x 99 columns]"
      ]
     },
     "execution_count": 88,
     "metadata": {},
     "output_type": "execute_result"
    }
   ],
   "source": [
    "df2"
   ]
  },
  {
   "cell_type": "markdown",
   "id": "dcda9457",
   "metadata": {},
   "source": [
    "# 8. Applying Machine Learning algorithm"
   ]
  },
  {
   "cell_type": "code",
   "execution_count": 89,
   "id": "59b2e83e",
   "metadata": {},
   "outputs": [],
   "source": [
    "df2[\"length\"] = dataframe[\"length\"]\n",
    "df2[\"lowercase_freq\"] = dataframe[\"lowercase_freq\"]"
   ]
  },
  {
   "cell_type": "code",
   "execution_count": 90,
   "id": "dac2211a",
   "metadata": {},
   "outputs": [
    {
     "data": {
      "text/html": [
       "<div>\n",
       "<style scoped>\n",
       "    .dataframe tbody tr th:only-of-type {\n",
       "        vertical-align: middle;\n",
       "    }\n",
       "\n",
       "    .dataframe tbody tr th {\n",
       "        vertical-align: top;\n",
       "    }\n",
       "\n",
       "    .dataframe thead th {\n",
       "        text-align: right;\n",
       "    }\n",
       "</style>\n",
       "<table border=\"1\" class=\"dataframe\">\n",
       "  <thead>\n",
       "    <tr style=\"text-align: right;\">\n",
       "      <th></th>\n",
       "      <th>\u0004</th>\n",
       "      <th>\u0006</th>\n",
       "      <th>\b</th>\n",
       "      <th>\u000e</th>\n",
       "      <th>\u0010</th>\n",
       "      <th>\u0011</th>\n",
       "      <th>\u0017</th>\n",
       "      <th></th>\n",
       "      <th>!</th>\n",
       "      <th>#</th>\n",
       "      <th>...</th>\n",
       "      <th>õ</th>\n",
       "      <th>ö</th>\n",
       "      <th>÷</th>\n",
       "      <th>ú</th>\n",
       "      <th>ü</th>\n",
       "      <th>ý</th>\n",
       "      <th>þ</th>\n",
       "      <th>›</th>\n",
       "      <th>length</th>\n",
       "      <th>lowercase_freq</th>\n",
       "    </tr>\n",
       "  </thead>\n",
       "  <tbody>\n",
       "    <tr>\n",
       "      <th>0</th>\n",
       "      <td>0.0</td>\n",
       "      <td>0.0</td>\n",
       "      <td>0.0</td>\n",
       "      <td>0.0</td>\n",
       "      <td>0.0</td>\n",
       "      <td>0.0</td>\n",
       "      <td>0.0</td>\n",
       "      <td>0.0</td>\n",
       "      <td>0.0</td>\n",
       "      <td>0.0</td>\n",
       "      <td>...</td>\n",
       "      <td>0.0</td>\n",
       "      <td>0.0</td>\n",
       "      <td>0.0</td>\n",
       "      <td>0.0</td>\n",
       "      <td>0.0</td>\n",
       "      <td>0.0</td>\n",
       "      <td>0.0</td>\n",
       "      <td>0.0</td>\n",
       "      <td>9</td>\n",
       "      <td>0.333</td>\n",
       "    </tr>\n",
       "    <tr>\n",
       "      <th>1</th>\n",
       "      <td>0.0</td>\n",
       "      <td>0.0</td>\n",
       "      <td>0.0</td>\n",
       "      <td>0.0</td>\n",
       "      <td>0.0</td>\n",
       "      <td>0.0</td>\n",
       "      <td>0.0</td>\n",
       "      <td>0.0</td>\n",
       "      <td>0.0</td>\n",
       "      <td>0.0</td>\n",
       "      <td>...</td>\n",
       "      <td>0.0</td>\n",
       "      <td>0.0</td>\n",
       "      <td>0.0</td>\n",
       "      <td>0.0</td>\n",
       "      <td>0.0</td>\n",
       "      <td>0.0</td>\n",
       "      <td>0.0</td>\n",
       "      <td>0.0</td>\n",
       "      <td>12</td>\n",
       "      <td>0.417</td>\n",
       "    </tr>\n",
       "    <tr>\n",
       "      <th>2</th>\n",
       "      <td>0.0</td>\n",
       "      <td>0.0</td>\n",
       "      <td>0.0</td>\n",
       "      <td>0.0</td>\n",
       "      <td>0.0</td>\n",
       "      <td>0.0</td>\n",
       "      <td>0.0</td>\n",
       "      <td>0.0</td>\n",
       "      <td>0.0</td>\n",
       "      <td>0.0</td>\n",
       "      <td>...</td>\n",
       "      <td>0.0</td>\n",
       "      <td>0.0</td>\n",
       "      <td>0.0</td>\n",
       "      <td>0.0</td>\n",
       "      <td>0.0</td>\n",
       "      <td>0.0</td>\n",
       "      <td>0.0</td>\n",
       "      <td>0.0</td>\n",
       "      <td>9</td>\n",
       "      <td>0.778</td>\n",
       "    </tr>\n",
       "    <tr>\n",
       "      <th>3</th>\n",
       "      <td>0.0</td>\n",
       "      <td>0.0</td>\n",
       "      <td>0.0</td>\n",
       "      <td>0.0</td>\n",
       "      <td>0.0</td>\n",
       "      <td>0.0</td>\n",
       "      <td>0.0</td>\n",
       "      <td>0.0</td>\n",
       "      <td>0.0</td>\n",
       "      <td>0.0</td>\n",
       "      <td>...</td>\n",
       "      <td>0.0</td>\n",
       "      <td>0.0</td>\n",
       "      <td>0.0</td>\n",
       "      <td>0.0</td>\n",
       "      <td>0.0</td>\n",
       "      <td>0.0</td>\n",
       "      <td>0.0</td>\n",
       "      <td>0.0</td>\n",
       "      <td>23</td>\n",
       "      <td>0.783</td>\n",
       "    </tr>\n",
       "    <tr>\n",
       "      <th>4</th>\n",
       "      <td>0.0</td>\n",
       "      <td>0.0</td>\n",
       "      <td>0.0</td>\n",
       "      <td>0.0</td>\n",
       "      <td>0.0</td>\n",
       "      <td>0.0</td>\n",
       "      <td>0.0</td>\n",
       "      <td>0.0</td>\n",
       "      <td>0.0</td>\n",
       "      <td>0.0</td>\n",
       "      <td>...</td>\n",
       "      <td>0.0</td>\n",
       "      <td>0.0</td>\n",
       "      <td>0.0</td>\n",
       "      <td>0.0</td>\n",
       "      <td>0.0</td>\n",
       "      <td>0.0</td>\n",
       "      <td>0.0</td>\n",
       "      <td>0.0</td>\n",
       "      <td>8</td>\n",
       "      <td>0.625</td>\n",
       "    </tr>\n",
       "    <tr>\n",
       "      <th>...</th>\n",
       "      <td>...</td>\n",
       "      <td>...</td>\n",
       "      <td>...</td>\n",
       "      <td>...</td>\n",
       "      <td>...</td>\n",
       "      <td>...</td>\n",
       "      <td>...</td>\n",
       "      <td>...</td>\n",
       "      <td>...</td>\n",
       "      <td>...</td>\n",
       "      <td>...</td>\n",
       "      <td>...</td>\n",
       "      <td>...</td>\n",
       "      <td>...</td>\n",
       "      <td>...</td>\n",
       "      <td>...</td>\n",
       "      <td>...</td>\n",
       "      <td>...</td>\n",
       "      <td>...</td>\n",
       "      <td>...</td>\n",
       "      <td>...</td>\n",
       "    </tr>\n",
       "    <tr>\n",
       "      <th>99995</th>\n",
       "      <td>0.0</td>\n",
       "      <td>0.0</td>\n",
       "      <td>0.0</td>\n",
       "      <td>0.0</td>\n",
       "      <td>0.0</td>\n",
       "      <td>0.0</td>\n",
       "      <td>0.0</td>\n",
       "      <td>0.0</td>\n",
       "      <td>0.0</td>\n",
       "      <td>0.0</td>\n",
       "      <td>...</td>\n",
       "      <td>0.0</td>\n",
       "      <td>0.0</td>\n",
       "      <td>0.0</td>\n",
       "      <td>0.0</td>\n",
       "      <td>0.0</td>\n",
       "      <td>0.0</td>\n",
       "      <td>0.0</td>\n",
       "      <td>0.0</td>\n",
       "      <td>10</td>\n",
       "      <td>0.700</td>\n",
       "    </tr>\n",
       "    <tr>\n",
       "      <th>99996</th>\n",
       "      <td>0.0</td>\n",
       "      <td>0.0</td>\n",
       "      <td>0.0</td>\n",
       "      <td>0.0</td>\n",
       "      <td>0.0</td>\n",
       "      <td>0.0</td>\n",
       "      <td>0.0</td>\n",
       "      <td>0.0</td>\n",
       "      <td>0.0</td>\n",
       "      <td>0.0</td>\n",
       "      <td>...</td>\n",
       "      <td>0.0</td>\n",
       "      <td>0.0</td>\n",
       "      <td>0.0</td>\n",
       "      <td>0.0</td>\n",
       "      <td>0.0</td>\n",
       "      <td>0.0</td>\n",
       "      <td>0.0</td>\n",
       "      <td>0.0</td>\n",
       "      <td>10</td>\n",
       "      <td>0.800</td>\n",
       "    </tr>\n",
       "    <tr>\n",
       "      <th>99997</th>\n",
       "      <td>0.0</td>\n",
       "      <td>0.0</td>\n",
       "      <td>0.0</td>\n",
       "      <td>0.0</td>\n",
       "      <td>0.0</td>\n",
       "      <td>0.0</td>\n",
       "      <td>0.0</td>\n",
       "      <td>0.0</td>\n",
       "      <td>0.0</td>\n",
       "      <td>0.0</td>\n",
       "      <td>...</td>\n",
       "      <td>0.0</td>\n",
       "      <td>0.0</td>\n",
       "      <td>0.0</td>\n",
       "      <td>0.0</td>\n",
       "      <td>0.0</td>\n",
       "      <td>0.0</td>\n",
       "      <td>0.0</td>\n",
       "      <td>0.0</td>\n",
       "      <td>9</td>\n",
       "      <td>0.778</td>\n",
       "    </tr>\n",
       "    <tr>\n",
       "      <th>99998</th>\n",
       "      <td>0.0</td>\n",
       "      <td>0.0</td>\n",
       "      <td>0.0</td>\n",
       "      <td>0.0</td>\n",
       "      <td>0.0</td>\n",
       "      <td>0.0</td>\n",
       "      <td>0.0</td>\n",
       "      <td>0.0</td>\n",
       "      <td>0.0</td>\n",
       "      <td>0.0</td>\n",
       "      <td>...</td>\n",
       "      <td>0.0</td>\n",
       "      <td>0.0</td>\n",
       "      <td>0.0</td>\n",
       "      <td>0.0</td>\n",
       "      <td>0.0</td>\n",
       "      <td>0.0</td>\n",
       "      <td>0.0</td>\n",
       "      <td>0.0</td>\n",
       "      <td>9</td>\n",
       "      <td>0.667</td>\n",
       "    </tr>\n",
       "    <tr>\n",
       "      <th>99999</th>\n",
       "      <td>0.0</td>\n",
       "      <td>0.0</td>\n",
       "      <td>0.0</td>\n",
       "      <td>0.0</td>\n",
       "      <td>0.0</td>\n",
       "      <td>0.0</td>\n",
       "      <td>0.0</td>\n",
       "      <td>0.0</td>\n",
       "      <td>0.0</td>\n",
       "      <td>0.0</td>\n",
       "      <td>...</td>\n",
       "      <td>0.0</td>\n",
       "      <td>0.0</td>\n",
       "      <td>0.0</td>\n",
       "      <td>0.0</td>\n",
       "      <td>0.0</td>\n",
       "      <td>0.0</td>\n",
       "      <td>0.0</td>\n",
       "      <td>0.0</td>\n",
       "      <td>11</td>\n",
       "      <td>0.727</td>\n",
       "    </tr>\n",
       "  </tbody>\n",
       "</table>\n",
       "<p>100000 rows × 101 columns</p>\n",
       "</div>"
      ],
      "text/plain": [
       "         \u0004    \u0006    \b    \u000e    \u0010    \u0011    \u0017         !    #  ...    õ    ö    ÷   \n",
       "0      0.0  0.0  0.0  0.0  0.0  0.0  0.0  0.0  0.0  0.0  ...  0.0  0.0  0.0  \\\n",
       "1      0.0  0.0  0.0  0.0  0.0  0.0  0.0  0.0  0.0  0.0  ...  0.0  0.0  0.0   \n",
       "2      0.0  0.0  0.0  0.0  0.0  0.0  0.0  0.0  0.0  0.0  ...  0.0  0.0  0.0   \n",
       "3      0.0  0.0  0.0  0.0  0.0  0.0  0.0  0.0  0.0  0.0  ...  0.0  0.0  0.0   \n",
       "4      0.0  0.0  0.0  0.0  0.0  0.0  0.0  0.0  0.0  0.0  ...  0.0  0.0  0.0   \n",
       "...    ...  ...  ...  ...  ...  ...  ...  ...  ...  ...  ...  ...  ...  ...   \n",
       "99995  0.0  0.0  0.0  0.0  0.0  0.0  0.0  0.0  0.0  0.0  ...  0.0  0.0  0.0   \n",
       "99996  0.0  0.0  0.0  0.0  0.0  0.0  0.0  0.0  0.0  0.0  ...  0.0  0.0  0.0   \n",
       "99997  0.0  0.0  0.0  0.0  0.0  0.0  0.0  0.0  0.0  0.0  ...  0.0  0.0  0.0   \n",
       "99998  0.0  0.0  0.0  0.0  0.0  0.0  0.0  0.0  0.0  0.0  ...  0.0  0.0  0.0   \n",
       "99999  0.0  0.0  0.0  0.0  0.0  0.0  0.0  0.0  0.0  0.0  ...  0.0  0.0  0.0   \n",
       "\n",
       "         ú    ü    ý    þ    ›  length  lowercase_freq  \n",
       "0      0.0  0.0  0.0  0.0  0.0       9           0.333  \n",
       "1      0.0  0.0  0.0  0.0  0.0      12           0.417  \n",
       "2      0.0  0.0  0.0  0.0  0.0       9           0.778  \n",
       "3      0.0  0.0  0.0  0.0  0.0      23           0.783  \n",
       "4      0.0  0.0  0.0  0.0  0.0       8           0.625  \n",
       "...    ...  ...  ...  ...  ...     ...             ...  \n",
       "99995  0.0  0.0  0.0  0.0  0.0      10           0.700  \n",
       "99996  0.0  0.0  0.0  0.0  0.0      10           0.800  \n",
       "99997  0.0  0.0  0.0  0.0  0.0       9           0.778  \n",
       "99998  0.0  0.0  0.0  0.0  0.0       9           0.667  \n",
       "99999  0.0  0.0  0.0  0.0  0.0      11           0.727  \n",
       "\n",
       "[100000 rows x 101 columns]"
      ]
     },
     "execution_count": 90,
     "metadata": {},
     "output_type": "execute_result"
    }
   ],
   "source": [
    "df2"
   ]
  },
  {
   "cell_type": "code",
   "execution_count": 91,
   "id": "02123aab",
   "metadata": {},
   "outputs": [],
   "source": [
    "y = dataframe[\"strength\"]"
   ]
  },
  {
   "cell_type": "markdown",
   "id": "c288f546",
   "metadata": {},
   "source": [
    "### split data into train & test"
   ]
  },
  {
   "cell_type": "code",
   "execution_count": 92,
   "id": "43c5e3a6",
   "metadata": {},
   "outputs": [],
   "source": [
    " from sklearn.model_selection import train_test_split"
   ]
  },
  {
   "cell_type": "code",
   "execution_count": 93,
   "id": "a06eb471",
   "metadata": {},
   "outputs": [],
   "source": [
    "X_train, X_test, y_train, y_test = train_test_split(df2, y, test_size=0.20)"
   ]
  },
  {
   "cell_type": "code",
   "execution_count": 94,
   "id": "4e4fa104",
   "metadata": {},
   "outputs": [
    {
     "data": {
      "text/plain": [
       "(80000, 101)"
      ]
     },
     "execution_count": 94,
     "metadata": {},
     "output_type": "execute_result"
    }
   ],
   "source": [
    "X_train.shape"
   ]
  },
  {
   "cell_type": "code",
   "execution_count": 95,
   "id": "d3847969",
   "metadata": {},
   "outputs": [
    {
     "data": {
      "text/plain": [
       "(80000,)"
      ]
     },
     "execution_count": 95,
     "metadata": {},
     "output_type": "execute_result"
    }
   ],
   "source": [
    "y_train.shape"
   ]
  },
  {
   "cell_type": "code",
   "execution_count": 96,
   "id": "09024d24",
   "metadata": {},
   "outputs": [],
   "source": [
    "from sklearn.linear_model import LogisticRegression"
   ]
  },
  {
   "cell_type": "code",
   "execution_count": 97,
   "id": "2e2ef673",
   "metadata": {},
   "outputs": [],
   "source": [
    "clf = LogisticRegression(multi_class=\"multinomial\")"
   ]
  },
  {
   "cell_type": "code",
   "execution_count": 98,
   "id": "2b91b033",
   "metadata": {},
   "outputs": [
    {
     "data": {
      "text/html": [
       "<style>#sk-container-id-1 {color: black;background-color: white;}#sk-container-id-1 pre{padding: 0;}#sk-container-id-1 div.sk-toggleable {background-color: white;}#sk-container-id-1 label.sk-toggleable__label {cursor: pointer;display: block;width: 100%;margin-bottom: 0;padding: 0.3em;box-sizing: border-box;text-align: center;}#sk-container-id-1 label.sk-toggleable__label-arrow:before {content: \"▸\";float: left;margin-right: 0.25em;color: #696969;}#sk-container-id-1 label.sk-toggleable__label-arrow:hover:before {color: black;}#sk-container-id-1 div.sk-estimator:hover label.sk-toggleable__label-arrow:before {color: black;}#sk-container-id-1 div.sk-toggleable__content {max-height: 0;max-width: 0;overflow: hidden;text-align: left;background-color: #f0f8ff;}#sk-container-id-1 div.sk-toggleable__content pre {margin: 0.2em;color: black;border-radius: 0.25em;background-color: #f0f8ff;}#sk-container-id-1 input.sk-toggleable__control:checked~div.sk-toggleable__content {max-height: 200px;max-width: 100%;overflow: auto;}#sk-container-id-1 input.sk-toggleable__control:checked~label.sk-toggleable__label-arrow:before {content: \"▾\";}#sk-container-id-1 div.sk-estimator input.sk-toggleable__control:checked~label.sk-toggleable__label {background-color: #d4ebff;}#sk-container-id-1 div.sk-label input.sk-toggleable__control:checked~label.sk-toggleable__label {background-color: #d4ebff;}#sk-container-id-1 input.sk-hidden--visually {border: 0;clip: rect(1px 1px 1px 1px);clip: rect(1px, 1px, 1px, 1px);height: 1px;margin: -1px;overflow: hidden;padding: 0;position: absolute;width: 1px;}#sk-container-id-1 div.sk-estimator {font-family: monospace;background-color: #f0f8ff;border: 1px dotted black;border-radius: 0.25em;box-sizing: border-box;margin-bottom: 0.5em;}#sk-container-id-1 div.sk-estimator:hover {background-color: #d4ebff;}#sk-container-id-1 div.sk-parallel-item::after {content: \"\";width: 100%;border-bottom: 1px solid gray;flex-grow: 1;}#sk-container-id-1 div.sk-label:hover label.sk-toggleable__label {background-color: #d4ebff;}#sk-container-id-1 div.sk-serial::before {content: \"\";position: absolute;border-left: 1px solid gray;box-sizing: border-box;top: 0;bottom: 0;left: 50%;z-index: 0;}#sk-container-id-1 div.sk-serial {display: flex;flex-direction: column;align-items: center;background-color: white;padding-right: 0.2em;padding-left: 0.2em;position: relative;}#sk-container-id-1 div.sk-item {position: relative;z-index: 1;}#sk-container-id-1 div.sk-parallel {display: flex;align-items: stretch;justify-content: center;background-color: white;position: relative;}#sk-container-id-1 div.sk-item::before, #sk-container-id-1 div.sk-parallel-item::before {content: \"\";position: absolute;border-left: 1px solid gray;box-sizing: border-box;top: 0;bottom: 0;left: 50%;z-index: -1;}#sk-container-id-1 div.sk-parallel-item {display: flex;flex-direction: column;z-index: 1;position: relative;background-color: white;}#sk-container-id-1 div.sk-parallel-item:first-child::after {align-self: flex-end;width: 50%;}#sk-container-id-1 div.sk-parallel-item:last-child::after {align-self: flex-start;width: 50%;}#sk-container-id-1 div.sk-parallel-item:only-child::after {width: 0;}#sk-container-id-1 div.sk-dashed-wrapped {border: 1px dashed gray;margin: 0 0.4em 0.5em 0.4em;box-sizing: border-box;padding-bottom: 0.4em;background-color: white;}#sk-container-id-1 div.sk-label label {font-family: monospace;font-weight: bold;display: inline-block;line-height: 1.2em;}#sk-container-id-1 div.sk-label-container {text-align: center;}#sk-container-id-1 div.sk-container {/* jupyter's `normalize.less` sets `[hidden] { display: none; }` but bootstrap.min.css set `[hidden] { display: none !important; }` so we also need the `!important` here to be able to override the default hidden behavior on the sphinx rendered scikit-learn.org. See: https://github.com/scikit-learn/scikit-learn/issues/21755 */display: inline-block !important;position: relative;}#sk-container-id-1 div.sk-text-repr-fallback {display: none;}</style><div id=\"sk-container-id-1\" class=\"sk-top-container\"><div class=\"sk-text-repr-fallback\"><pre>LogisticRegression(multi_class=&#x27;multinomial&#x27;)</pre><b>In a Jupyter environment, please rerun this cell to show the HTML representation or trust the notebook. <br />On GitHub, the HTML representation is unable to render, please try loading this page with nbviewer.org.</b></div><div class=\"sk-container\" hidden><div class=\"sk-item\"><div class=\"sk-estimator sk-toggleable\"><input class=\"sk-toggleable__control sk-hidden--visually\" id=\"sk-estimator-id-1\" type=\"checkbox\" checked><label for=\"sk-estimator-id-1\" class=\"sk-toggleable__label sk-toggleable__label-arrow\">LogisticRegression</label><div class=\"sk-toggleable__content\"><pre>LogisticRegression(multi_class=&#x27;multinomial&#x27;)</pre></div></div></div></div></div>"
      ],
      "text/plain": [
       "LogisticRegression(multi_class='multinomial')"
      ]
     },
     "execution_count": 98,
     "metadata": {},
     "output_type": "execute_result"
    }
   ],
   "source": [
    "clf.fit(X_train , y_train)"
   ]
  },
  {
   "cell_type": "code",
   "execution_count": 99,
   "id": "fa3ddb94",
   "metadata": {},
   "outputs": [],
   "source": [
    "y_pred = clf.predict(X_test)"
   ]
  },
  {
   "cell_type": "code",
   "execution_count": 100,
   "id": "7744b384",
   "metadata": {},
   "outputs": [
    {
     "data": {
      "text/plain": [
       "array([1, 1, 1, ..., 1, 1, 1], dtype=int64)"
      ]
     },
     "execution_count": 100,
     "metadata": {},
     "output_type": "execute_result"
    }
   ],
   "source": [
    "y_pred"
   ]
  },
  {
   "cell_type": "code",
   "execution_count": 101,
   "id": "09df9dcb",
   "metadata": {},
   "outputs": [],
   "source": [
    "from collections import Counter"
   ]
  },
  {
   "cell_type": "code",
   "execution_count": 102,
   "id": "7c68505e",
   "metadata": {},
   "outputs": [
    {
     "data": {
      "text/plain": [
       "Counter({1: 16584, 2: 1898, 0: 1518})"
      ]
     },
     "execution_count": 102,
     "metadata": {},
     "output_type": "execute_result"
    }
   ],
   "source": [
    "Counter(y_pred)"
   ]
  },
  {
   "cell_type": "markdown",
   "id": "bd154f0d",
   "metadata": {},
   "source": [
    "# 9. Doing prediction on sample data (user-entered input)"
   ]
  },
  {
   "cell_type": "code",
   "execution_count": 103,
   "id": "25ee63b1",
   "metadata": {},
   "outputs": [],
   "source": [
    "password = \"%@123abcd\""
   ]
  },
  {
   "cell_type": "code",
   "execution_count": 104,
   "id": "8d644b07",
   "metadata": {},
   "outputs": [],
   "source": [
    "sample_array = np.array([password])"
   ]
  },
  {
   "cell_type": "code",
   "execution_count": 105,
   "id": "590ce518",
   "metadata": {},
   "outputs": [],
   "source": [
    "sample_matrix = vectorizer.transform(sample_array)"
   ]
  },
  {
   "cell_type": "code",
   "execution_count": 106,
   "id": "3720809a",
   "metadata": {},
   "outputs": [
    {
     "data": {
      "text/plain": [
       "array([[0.        , 0.        , 0.        , 0.        , 0.        ,\n",
       "        0.        , 0.        , 0.        , 0.        , 0.        ,\n",
       "        0.        , 0.71897928, 0.        , 0.        , 0.        ,\n",
       "        0.        , 0.        , 0.        , 0.        , 0.        ,\n",
       "        0.        , 0.14344586, 0.1659599 , 0.18587581, 0.        ,\n",
       "        0.        , 0.        , 0.        , 0.        , 0.        ,\n",
       "        0.        , 0.        , 0.        , 0.        , 0.        ,\n",
       "        0.48741481, 0.        , 0.        , 0.        , 0.        ,\n",
       "        0.        , 0.        , 0.13814351, 0.23158091, 0.21637656,\n",
       "        0.20807263, 0.        , 0.        , 0.        , 0.        ,\n",
       "        0.        , 0.        , 0.        , 0.        , 0.        ,\n",
       "        0.        , 0.        , 0.        , 0.        , 0.        ,\n",
       "        0.        , 0.        , 0.        , 0.        , 0.        ,\n",
       "        0.        , 0.        , 0.        , 0.        , 0.        ,\n",
       "        0.        , 0.        , 0.        , 0.        , 0.        ,\n",
       "        0.        , 0.        , 0.        , 0.        , 0.        ,\n",
       "        0.        , 0.        , 0.        , 0.        , 0.        ,\n",
       "        0.        , 0.        , 0.        , 0.        , 0.        ,\n",
       "        0.        , 0.        , 0.        , 0.        , 0.        ,\n",
       "        0.        , 0.        , 0.        , 0.        ]])"
      ]
     },
     "execution_count": 106,
     "metadata": {},
     "output_type": "execute_result"
    }
   ],
   "source": [
    "sample_matrix.toarray()"
   ]
  },
  {
   "cell_type": "code",
   "execution_count": 107,
   "id": "3dfd36fd",
   "metadata": {},
   "outputs": [
    {
     "data": {
      "text/plain": [
       "(1, 99)"
      ]
     },
     "execution_count": 107,
     "metadata": {},
     "output_type": "execute_result"
    }
   ],
   "source": [
    "sample_matrix.toarray().shape"
   ]
  },
  {
   "cell_type": "code",
   "execution_count": 108,
   "id": "8027b886",
   "metadata": {},
   "outputs": [
    {
     "data": {
      "text/plain": [
       "'%@123abcd'"
      ]
     },
     "execution_count": 108,
     "metadata": {},
     "output_type": "execute_result"
    }
   ],
   "source": [
    "password"
   ]
  },
  {
   "cell_type": "code",
   "execution_count": 109,
   "id": "a507d366",
   "metadata": {},
   "outputs": [
    {
     "data": {
      "text/plain": [
       "9"
      ]
     },
     "execution_count": 109,
     "metadata": {},
     "output_type": "execute_result"
    }
   ],
   "source": [
    "len(password)"
   ]
  },
  {
   "cell_type": "code",
   "execution_count": 110,
   "id": "013958e8",
   "metadata": {},
   "outputs": [
    {
     "data": {
      "text/plain": [
       "['a', 'b', 'c', 'd']"
      ]
     },
     "execution_count": 110,
     "metadata": {},
     "output_type": "execute_result"
    }
   ],
   "source": [
    "[char for char in password if char.islower()]"
   ]
  },
  {
   "cell_type": "code",
   "execution_count": 111,
   "id": "93268b28",
   "metadata": {},
   "outputs": [
    {
     "data": {
      "text/plain": [
       "0.4444444444444444"
      ]
     },
     "execution_count": 111,
     "metadata": {},
     "output_type": "execute_result"
    }
   ],
   "source": [
    "len([char for char in password if char.islower()])/len(password)"
   ]
  },
  {
   "cell_type": "code",
   "execution_count": 112,
   "id": "ba387521",
   "metadata": {},
   "outputs": [
    {
     "data": {
      "text/plain": [
       "array([0.        , 0.        , 0.        , 0.        , 0.        ,\n",
       "       0.        , 0.        , 0.        , 0.        , 0.        ,\n",
       "       0.        , 0.71897928, 0.        , 0.        , 0.        ,\n",
       "       0.        , 0.        , 0.        , 0.        , 0.        ,\n",
       "       0.        , 0.14344586, 0.1659599 , 0.18587581, 0.        ,\n",
       "       0.        , 0.        , 0.        , 0.        , 0.        ,\n",
       "       0.        , 0.        , 0.        , 0.        , 0.        ,\n",
       "       0.48741481, 0.        , 0.        , 0.        , 0.        ,\n",
       "       0.        , 0.        , 0.13814351, 0.23158091, 0.21637656,\n",
       "       0.20807263, 0.        , 0.        , 0.        , 0.        ,\n",
       "       0.        , 0.        , 0.        , 0.        , 0.        ,\n",
       "       0.        , 0.        , 0.        , 0.        , 0.        ,\n",
       "       0.        , 0.        , 0.        , 0.        , 0.        ,\n",
       "       0.        , 0.        , 0.        , 0.        , 0.        ,\n",
       "       0.        , 0.        , 0.        , 0.        , 0.        ,\n",
       "       0.        , 0.        , 0.        , 0.        , 0.        ,\n",
       "       0.        , 0.        , 0.        , 0.        , 0.        ,\n",
       "       0.        , 0.        , 0.        , 0.        , 0.        ,\n",
       "       0.        , 0.        , 0.        , 0.        , 0.        ,\n",
       "       0.        , 0.        , 0.        , 0.        , 9.        ,\n",
       "       0.444     ])"
      ]
     },
     "execution_count": 112,
     "metadata": {},
     "output_type": "execute_result"
    }
   ],
   "source": [
    "np.append(sample_matrix.toarray() ,(9,0.444))"
   ]
  },
  {
   "cell_type": "code",
   "execution_count": 113,
   "id": "d29df8a4",
   "metadata": {},
   "outputs": [
    {
     "data": {
      "text/plain": [
       "(101,)"
      ]
     },
     "execution_count": 113,
     "metadata": {},
     "output_type": "execute_result"
    }
   ],
   "source": [
    "np.append(sample_matrix.toarray() ,(9,0.444)).shape"
   ]
  },
  {
   "cell_type": "code",
   "execution_count": 114,
   "id": "9dbc8db9",
   "metadata": {},
   "outputs": [
    {
     "data": {
      "text/plain": [
       "array([[0.        , 0.        , 0.        , 0.        , 0.        ,\n",
       "        0.        , 0.        , 0.        , 0.        , 0.        ,\n",
       "        0.        , 0.71897928, 0.        , 0.        , 0.        ,\n",
       "        0.        , 0.        , 0.        , 0.        , 0.        ,\n",
       "        0.        , 0.14344586, 0.1659599 , 0.18587581, 0.        ,\n",
       "        0.        , 0.        , 0.        , 0.        , 0.        ,\n",
       "        0.        , 0.        , 0.        , 0.        , 0.        ,\n",
       "        0.48741481, 0.        , 0.        , 0.        , 0.        ,\n",
       "        0.        , 0.        , 0.13814351, 0.23158091, 0.21637656,\n",
       "        0.20807263, 0.        , 0.        , 0.        , 0.        ,\n",
       "        0.        , 0.        , 0.        , 0.        , 0.        ,\n",
       "        0.        , 0.        , 0.        , 0.        , 0.        ,\n",
       "        0.        , 0.        , 0.        , 0.        , 0.        ,\n",
       "        0.        , 0.        , 0.        , 0.        , 0.        ,\n",
       "        0.        , 0.        , 0.        , 0.        , 0.        ,\n",
       "        0.        , 0.        , 0.        , 0.        , 0.        ,\n",
       "        0.        , 0.        , 0.        , 0.        , 0.        ,\n",
       "        0.        , 0.        , 0.        , 0.        , 0.        ,\n",
       "        0.        , 0.        , 0.        , 0.        , 0.        ,\n",
       "        0.        , 0.        , 0.        , 0.        , 9.        ,\n",
       "        0.444     ]])"
      ]
     },
     "execution_count": 114,
     "metadata": {},
     "output_type": "execute_result"
    }
   ],
   "source": [
    "np.append(sample_matrix.toarray() ,(9,0.444)).reshape(1,101)"
   ]
  },
  {
   "cell_type": "code",
   "execution_count": 115,
   "id": "5ce26eb5",
   "metadata": {},
   "outputs": [
    {
     "data": {
      "text/plain": [
       "(1, 101)"
      ]
     },
     "execution_count": 115,
     "metadata": {},
     "output_type": "execute_result"
    }
   ],
   "source": [
    "np.append(sample_matrix.toarray() ,(9,0.444)).reshape(1,101).shape"
   ]
  },
  {
   "cell_type": "code",
   "execution_count": 116,
   "id": "30d35e39",
   "metadata": {},
   "outputs": [],
   "source": [
    "new_matrix = np.append(sample_matrix.toarray() ,(9,0.444)).reshape(1,101)"
   ]
  },
  {
   "cell_type": "code",
   "execution_count": 117,
   "id": "154b94a5",
   "metadata": {},
   "outputs": [
    {
     "data": {
      "text/plain": [
       "array([0], dtype=int64)"
      ]
     },
     "execution_count": 117,
     "metadata": {},
     "output_type": "execute_result"
    }
   ],
   "source": [
    "clf.predict(new_matrix)"
   ]
  },
  {
   "cell_type": "code",
   "execution_count": 118,
   "id": "9612bd7a",
   "metadata": {},
   "outputs": [],
   "source": [
    "def predict():\n",
    "    password = input(\"Enter a password : \")\n",
    "    sample_array = np.array([password])\n",
    "    sample_matrix = vectorizer.transform(sample_array)\n",
    "    \n",
    "    length_pass = len(password)\n",
    "    length_normalised_lowercase = len([char for char in password if char.islower()])/len(password)\n",
    "    \n",
    "    new_matrix2 = np.append(sample_matrix.toarray() , (length_pass , length_normalised_lowercase)).reshape(1,101)\n",
    "    result = clf.predict(new_matrix2)\n",
    "    \n",
    "    if result == 0 :\n",
    "        return \"Password is weak\"\n",
    "    elif result == 1 :\n",
    "        return \"Password is normal\"\n",
    "    else:\n",
    "        return \"password is strong\""
   ]
  },
  {
   "cell_type": "code",
   "execution_count": 119,
   "id": "774045d4",
   "metadata": {},
   "outputs": [
    {
     "name": "stdout",
     "output_type": "stream",
     "text": [
      "Enter a password : bcelmc\n"
     ]
    },
    {
     "data": {
      "text/plain": [
       "'Password is weak'"
      ]
     },
     "execution_count": 119,
     "metadata": {},
     "output_type": "execute_result"
    }
   ],
   "source": [
    "predict()"
   ]
  },
  {
   "cell_type": "code",
   "execution_count": 120,
   "id": "6ab3f429",
   "metadata": {},
   "outputs": [
    {
     "name": "stdout",
     "output_type": "stream",
     "text": [
      "Enter a password : bcelmc@$\n"
     ]
    },
    {
     "data": {
      "text/plain": [
       "'Password is weak'"
      ]
     },
     "execution_count": 120,
     "metadata": {},
     "output_type": "execute_result"
    }
   ],
   "source": [
    "predict()"
   ]
  },
  {
   "cell_type": "markdown",
   "id": "eb44b368",
   "metadata": {},
   "source": [
    "# 10.. Model evaluation "
   ]
  },
  {
   "cell_type": "code",
   "execution_count": 121,
   "id": "99065ea6",
   "metadata": {},
   "outputs": [],
   "source": [
    "from sklearn.metrics import confusion_matrix , accuracy_score , classification_report"
   ]
  },
  {
   "cell_type": "code",
   "execution_count": 122,
   "id": "ecd49fbc",
   "metadata": {},
   "outputs": [
    {
     "data": {
      "text/plain": [
       "0.80115"
      ]
     },
     "execution_count": 122,
     "metadata": {},
     "output_type": "execute_result"
    }
   ],
   "source": [
    "accuracy_score(y_test , y_pred)"
   ]
  },
  {
   "cell_type": "code",
   "execution_count": 123,
   "id": "50409995",
   "metadata": {},
   "outputs": [
    {
     "data": {
      "text/plain": [
       "array([[  802,  1930,     7],\n",
       "       [  638, 13715,   385],\n",
       "       [   78,   939,  1506]], dtype=int64)"
      ]
     },
     "execution_count": 123,
     "metadata": {},
     "output_type": "execute_result"
    }
   ],
   "source": [
    "confusion_matrix(y_test , y_pred)"
   ]
  },
  {
   "cell_type": "code",
   "execution_count": 124,
   "id": "a5119569",
   "metadata": {},
   "outputs": [
    {
     "name": "stdout",
     "output_type": "stream",
     "text": [
      "              precision    recall  f1-score   support\n",
      "\n",
      "           0       0.53      0.29      0.38      2739\n",
      "           1       0.83      0.93      0.88     14738\n",
      "           2       0.79      0.60      0.68      2523\n",
      "\n",
      "    accuracy                           0.80     20000\n",
      "   macro avg       0.72      0.61      0.64     20000\n",
      "weighted avg       0.78      0.80      0.78     20000\n",
      "\n"
     ]
    }
   ],
   "source": [
    "print(classification_report(y_test , y_pred))"
   ]
  }
 ],
 "metadata": {
  "kernelspec": {
   "display_name": "Python 3 (ipykernel)",
   "language": "python",
   "name": "python3"
  },
  "language_info": {
   "codemirror_mode": {
    "name": "ipython",
    "version": 3
   },
   "file_extension": ".py",
   "mimetype": "text/x-python",
   "name": "python",
   "nbconvert_exporter": "python",
   "pygments_lexer": "ipython3",
   "version": "3.11.3"
  }
 },
 "nbformat": 4,
 "nbformat_minor": 5
}
